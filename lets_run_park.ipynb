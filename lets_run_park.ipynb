{
 "cells": [
  {
   "cell_type": "code",
   "id": "initial_id",
   "metadata": {
    "collapsed": true,
    "ExecuteTime": {
     "end_time": "2024-12-19T00:08:54.188052Z",
     "start_time": "2024-12-19T00:08:54.140029Z"
    }
   },
   "source": [
    "from dotenv import load_dotenv\n",
    "load_dotenv()"
   ],
   "outputs": [
    {
     "data": {
      "text/plain": [
       "True"
      ]
     },
     "execution_count": 75,
     "metadata": {},
     "output_type": "execute_result"
    }
   ],
   "execution_count": 75
  },
  {
   "metadata": {
    "ExecuteTime": {
     "end_time": "2024-12-19T00:08:54.877531Z",
     "start_time": "2024-12-19T00:08:54.851303Z"
    }
   },
   "cell_type": "code",
   "source": [
    "from langchain_core.prompts import ChatPromptTemplate\n",
    "from langchain_core.messages\n",
    "prompt_template = ChatPromptTemplate([\n",
    "    ('system', \"\"\"You are a professional chatbot working at a horse racing track, providing detailed, helpful, and dynamic information based on the following sources:\n",
    "    Quick Information Access: Summarize key details such as race schedules, race types, and betting methods in an easy-to-understand way for beginners.\n",
    "    \"Please provide the information based on the following websites:\n",
    "\n",
    "https://namu.wiki/w/%EA%B2%BD%EB%A7%88/%ED%95%9C%EA%B5%AD\n",
    "https://race.kra.co.kr/raceguide/RaceProcessGetService.do\n",
    "https://knetz.kra.co.kr/index.do\n",
    "https://park.kra.co.kr/seoul_main.do?strToken=XXXXX\n",
    "http://www.okrace.co.kr/okrace/ai_info.php\"\n",
    "    Dynamic Betting Guidance: Provide tips for different types of bets (Win, Place, Exacta, etc.) and display real-time odds.\n",
    "    Location-Specific Information: Offer details about the specific racetrack, including facilities, events, and location-based info.\n",
    "    Track-Specific Information: Customize responses based on unique features and events of each racetrack.\n",
    "    Ensure that all responses are friendly, accurate, and cater to both newcomers and regular visitors.\"\"\"),\n",
    "    \n",
    "    ('user', '{question}')\n",
    "])\n",
    "\n",
    "# 출력 파서 생성\n",
    "from langchain_core.output_parsers import StrOutputParser\n",
    "\n",
    "output_parser = StrOutputParser()"
   ],
   "id": "29375b321eb48648",
   "outputs": [
    {
     "ename": "SyntaxError",
     "evalue": "invalid syntax (2568194066.py, line 2)",
     "output_type": "error",
     "traceback": [
      "\u001B[1;36m  Cell \u001B[1;32mIn[76], line 2\u001B[1;36m\u001B[0m\n\u001B[1;33m    from langchain_core.messages\u001B[0m\n\u001B[1;37m                                ^\u001B[0m\n\u001B[1;31mSyntaxError\u001B[0m\u001B[1;31m:\u001B[0m invalid syntax\n"
     ]
    }
   ],
   "execution_count": 76
  },
  {
   "metadata": {},
   "cell_type": "markdown",
   "source": "## pdf 파일 로드",
   "id": "a9bfbf350fce414"
  },
  {
   "metadata": {
    "ExecuteTime": {
     "end_time": "2024-12-19T00:10:14.860278Z",
     "start_time": "2024-12-19T00:08:55.933879Z"
    }
   },
   "cell_type": "code",
   "source": [
    "from langchain_openai import ChatOpenAI\n",
    "from langchain_core.messages import SystemMessage,HumanMessage,AIMessage\n",
    "from langchain_community.document_loaders import PyPDFLoader\n",
    "import os\n",
    "\n",
    "# 여러 PDF 파일 경로를 리스트로 생성\n",
    "pdf_folder = 'C:/Workspaces/dl_nlp/Choisoovin/10_langchain/04_ai_Sommelier_rag/pdfs'\n",
    "pdf_files = [os.path.join(pdf_folder, file) for file in os.listdir(pdf_folder) if file.endswith('.pdf')]\n",
    "\n",
    "# 각 PDF 파일을 로드하여 문서로 처리\n",
    "pdf_documents = []\n",
    "for pdf_file in pdf_files:\n",
    "    loader = PyPDFLoader(pdf_file)\n",
    "    pdf_documents.extend(loader.load())  # 문서를 리스트에 추가\n",
    "\n",
    "print(f\"Loaded {len(pdf_documents)} documents.\")"
   ],
   "id": "4d6debc239fde5d3",
   "outputs": [
    {
     "name": "stdout",
     "output_type": "stream",
     "text": [
      "Loaded 203 documents.\n"
     ]
    }
   ],
   "execution_count": 77
  },
  {
   "metadata": {},
   "cell_type": "markdown",
   "source": "## CSV 파일 로드",
   "id": "b77b5492d9f73f47"
  },
  {
   "metadata": {},
   "cell_type": "markdown",
   "source": [
    "import os\n",
    "from langchain_community.document_loaders import CSVLoader\n",
    "\n",
    "# CSV 저장된 폴더 경로 지정\n",
    "csv_folder = 'C:/Workspaces/dl_nlp/Choisoovin/10_langchain/04_ai_Sommelier_rag/csvs'\n",
    "\n",
    "# 폴더 내 모든 CSV 파일 경로 리스트 생성\n",
    "csv_files = [os.path.join(csv_folder, file) for file in os.listdir(csv_folder) if file.endswith('.csv')]\n",
    "\n",
    "# 폴더 내 모든 CSV 파일을 Document 객체로 로드\n",
    "csv_documents = []\n",
    "for csv_file in csv_files:\n",
    "    loader = CSVLoader(file_path=csv_file)  \n",
    "    csv_documents.extend(loader.load())    \n"
   ],
   "id": "967b4e69213bd1bf"
  },
  {
   "metadata": {},
   "cell_type": "markdown",
   "source": "## web 방식",
   "id": "36e9d63056bcc62"
  },
  {
   "metadata": {},
   "cell_type": "markdown",
   "source": [
    "from langchain.document_loaders import WebBaseLoader\n",
    "\n",
    "# 조회하고 싶은 URL들의 리스트\n",
    "urls = [\n",
    "    \"http://www.okrace.co.kr/okrace_guide/race_guide1.php\",\n",
    "    \"http://www.okrace.co.kr/okrace_guide/race_guide2.php\",\n",
    "    \"http://www.okrace.co.kr/okrace_guide/race_guide9.php\"\n",
    "]\n",
    "\n",
    "# WebBaseLoader에 리스트 전달\n",
    "loader = WebBaseLoader(urls)\n",
    "\n",
    "# 로드된 문서 가져오기\n",
    "web_documents = loader.load()\n",
    "\n",
    "# 출력 확인\n",
    "len(web_documents)"
   ],
   "id": "56fa7fc69bf7fbf4"
  },
  {
   "metadata": {},
   "cell_type": "markdown",
   "source": "web_documents[1]",
   "id": "687f83627c19c0e"
  },
  {
   "metadata": {},
   "cell_type": "markdown",
   "source": "## 데이터 병합",
   "id": "4fb06c4f076d3931"
  },
  {
   "metadata": {
    "ExecuteTime": {
     "end_time": "2024-12-19T00:11:32.819422Z",
     "start_time": "2024-12-19T00:11:32.134182Z"
    }
   },
   "cell_type": "code",
   "source": [
    "from langchain_openai import OpenAIEmbeddings\n",
    "\n",
    "\n",
    "embeddings = OpenAIEmbeddings(model=\"text-embedding-3-small\")\n",
    "docs = [document.page_content for document in pdf_documents]\n",
    "\n",
    "all_documents = pdf_documents #+ web_documents"
   ],
   "id": "2809e4a68ef0a62f",
   "outputs": [],
   "execution_count": 81
  },
  {
   "metadata": {},
   "cell_type": "markdown",
   "source": "## Vector Store 구축 - FAISS 사용",
   "id": "ed0b8adb1ee4754e"
  },
  {
   "metadata": {
    "ExecuteTime": {
     "end_time": "2024-12-19T00:37:35.942424Z",
     "start_time": "2024-12-19T00:37:27.774348Z"
    }
   },
   "cell_type": "code",
   "source": [
    "from langchain.vectorstores import FAISS\n",
    "\n",
    "vectors = FAISS.from_documents(all_documents, embeddings) #documents : Document\n",
    "vectors"
   ],
   "id": "a5d8266ed7b37972",
   "outputs": [
    {
     "data": {
      "text/plain": [
       "<langchain_community.vectorstores.faiss.FAISS at 0x23df9ad6540>"
      ]
     },
     "execution_count": 87,
     "metadata": {},
     "output_type": "execute_result"
    }
   ],
   "execution_count": 87
  },
  {
   "metadata": {},
   "cell_type": "markdown",
   "source": "## Retriever 객체 생성",
   "id": "d7bec4d8b902fa71"
  },
  {
   "metadata": {
    "ExecuteTime": {
     "end_time": "2024-12-19T00:37:40.671145Z",
     "start_time": "2024-12-19T00:37:40.659778Z"
    }
   },
   "cell_type": "code",
   "source": [
    "retriever = vectors.as_retriever()\n",
    "retriever"
   ],
   "id": "8c576e14e151d823",
   "outputs": [
    {
     "data": {
      "text/plain": [
       "VectorStoreRetriever(tags=['FAISS', 'OpenAIEmbeddings'], vectorstore=<langchain_community.vectorstores.faiss.FAISS object at 0x0000023DF9AD6540>, search_kwargs={})"
      ]
     },
     "execution_count": 88,
     "metadata": {},
     "output_type": "execute_result"
    }
   ],
   "execution_count": 88
  },
  {
   "metadata": {
    "ExecuteTime": {
     "end_time": "2024-12-19T00:38:45.402494Z",
     "start_time": "2024-12-19T00:38:42.556652Z"
    }
   },
   "cell_type": "code",
   "source": [
    "# 벡터스토어 검색 및 LLM 질의\n",
    "\n",
    "from langchain_openai import ChatOpenAI\n",
    "from langchain.chains import RetrievalQA\n",
    "model = ChatOpenAI(\n",
    "    model=\"gpt-4o\",\n",
    "    temperature=0,\n",
    ")\n",
    "\n",
    "#질의 객체\n",
    "rtvr_qa=RetrievalQA.from_chain_type(\n",
    "    llm=model,\n",
    "    retriever=retriever,\n",
    "    chain_type = 'stuff' #검색된 내용을 하나의 텍스트로 생성해서 LLM에 전달\n",
    ")\n",
    "\n",
    "#llm 질의\n",
    "response1 = rtvr_qa.invoke('auto bet에 대해 알려줘')\n",
    "print(response1)"
   ],
   "id": "c342874c316efeb",
   "outputs": [
    {
     "name": "stdout",
     "output_type": "stream",
     "text": [
      "{'query': 'auto bet에 대해 알려줘', 'result': '죄송하지만, 제공된 정보에는 \"auto bet\"에 대한 구체적인 내용이 포함되어 있지 않습니다. \"auto bet\"에 대한 정보를 원하신다면, 관련된 다른 자료나 웹사이트를 참고하시기 바랍니다.'}\n"
     ]
    }
   ],
   "execution_count": 91
  },
  {
   "metadata": {},
   "cell_type": "code",
   "outputs": [],
   "execution_count": null,
   "source": [
    "#response1 = rtvr_qa.invoke('오토벳에 대해 알려줘')\n",
    "#print(response1)\n",
    "#TODO pdf 업로드 시, 내용이 누락될 가능성?\n",
    "#race_guide.pdf에 오토벳에 대한 내용이 있는데 뱉어주는 게 없다.\n",
    "#민하님께서 guide.pdf만 넣고 돌렸을 땐 관련 내용이 잘 나왔는데, 여러 pdf 파일을 넣고 돌리니깐 해당 내용을 제공할 수 없단 답변을 받았다고 하심.\n",
    "#이에 다 같이 돌려봤으나 똑같은 증상을 겪었다."
   ],
   "id": "2ba39f0253b1570"
  },
  {
   "metadata": {},
   "cell_type": "code",
   "outputs": [],
   "execution_count": null,
   "source": "",
   "id": "13956d1f70ea6dcf"
  }
 ],
 "metadata": {
  "kernelspec": {
   "display_name": "Python 3",
   "language": "python",
   "name": "python3"
  },
  "language_info": {
   "codemirror_mode": {
    "name": "ipython",
    "version": 2
   },
   "file_extension": ".py",
   "mimetype": "text/x-python",
   "name": "python",
   "nbconvert_exporter": "python",
   "pygments_lexer": "ipython2",
   "version": "2.7.6"
  }
 },
 "nbformat": 4,
 "nbformat_minor": 5
}
