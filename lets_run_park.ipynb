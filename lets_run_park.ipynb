{
 "cells": [
  {
   "cell_type": "code",
   "id": "initial_id",
   "metadata": {
    "collapsed": true,
    "ExecuteTime": {
     "end_time": "2024-12-19T10:37:05.396940Z",
     "start_time": "2024-12-19T10:37:05.351814Z"
    }
   },
   "source": [
    "from dotenv import load_dotenv\n",
    "load_dotenv()"
   ],
   "outputs": [
    {
     "data": {
      "text/plain": [
       "True"
      ]
     },
     "execution_count": 59,
     "metadata": {},
     "output_type": "execute_result"
    }
   ],
   "execution_count": 59
  },
  {
   "metadata": {
    "ExecuteTime": {
     "end_time": "2024-12-19T01:30:26.909314Z",
     "start_time": "2024-12-19T01:30:26.904316Z"
    }
   },
   "cell_type": "code",
   "source": [
    "from langchain_core.prompts import ChatPromptTemplate\n",
    "from langchain_core.messages import HumanMessage\n",
    "prompt_template = ChatPromptTemplate([\n",
    "    ('system','''\n",
    "    이곳이 처음이거나 자주 오는 이들에게도 모르는 것이 있다면 언제든 대답해주는 게 네 역할이지.\n",
    "\n",
    "\n",
    "\n",
    "마사회\n",
    "You are a Virtual Assistant AI designed to serve as an information desk guide for the Korea Racing Authority (KRA). Your primary role is to provide clear, friendly, and detailed answers to visitors’ questions. Follow these steps when assisting users:\n",
    "\n",
    "Step 1: Document Analysis\n",
    "\n",
    "Review the uploaded documents or reference materials provided to identify relevant information regarding the user’s question.\n",
    "\n",
    "Step 2: Database Search or Supplementary Research\n",
    "\n",
    "If the documents lack sufficient details, search through available internal databases or reference reliable sources to gather the required information.\n",
    "\n",
    "Step 3: Answer Formulation\n",
    "\n",
    "Combine the extracted data to craft a concise, accurate, and visitor-friendly response. Tailor your tone to be professional yet approachable.\n",
    "\n",
    "Step 4: Simplification and Clarity\n",
    "\n",
    "Ensure the information is easy to understand, avoiding technical jargon unless specifically requested by the user.\n",
    "\n",
    "Step 5: Summary and Organization\n",
    "\n",
    "Provide a brief summary of your answer and, where applicable, suggest any additional services or information that might enhance the visitor’s experience.\n",
    "\n",
    "Now, proceed to execute this task: “Provide answers to visitor inquiries based on available documents and additional resources.” Take a step-by-step approach to ensure the response is comprehensive and accurate.''' ),\n",
    "    \n",
    "    ('user', '{question}')\n",
    "])\n",
    "\n",
    "# 출력 파서 생성\n",
    "from langchain_core.output_parsers import StrOutputParser\n",
    "\n",
    "output_parser = StrOutputParser()"
   ],
   "id": "29375b321eb48648",
   "outputs": [],
   "execution_count": 17
  },
  {
   "metadata": {},
   "cell_type": "markdown",
   "source": "## pdf 파일 로드",
   "id": "a9bfbf350fce414"
  },
  {
   "metadata": {
    "ExecuteTime": {
     "end_time": "2024-12-19T10:37:13.036862Z",
     "start_time": "2024-12-19T10:37:10.635959Z"
    }
   },
   "cell_type": "code",
   "source": [
    "from langchain_openai import ChatOpenAI\n",
    "from langchain_core.messages import SystemMessage,HumanMessage,AIMessage\n",
    "from langchain_community.document_loaders import PyPDFLoader\n",
    "import os\n",
    "\n",
    "# 여러 PDF 파일 경로를 리스트로 생성\n",
    "pdf_folder = 'C:/Workspaces/project_ma/pdfs'\n",
    "pdf_files = [os.path.join(pdf_folder, file) for file in os.listdir(pdf_folder) if file.endswith('.pdf')]\n",
    "\n",
    "# 각 PDF 파일을 로드하여 문서로 처리\n",
    "pdf_documents = []\n",
    "for pdf_file in pdf_files:\n",
    "    loader = PyPDFLoader(pdf_file)\n",
    "    pdf_documents.extend(loader.load())  # 문서를 리스트에 추가\n",
    "\n",
    "print(f\"Loaded {len(pdf_documents)} documents.\")"
   ],
   "id": "4d6debc239fde5d3",
   "outputs": [
    {
     "name": "stdout",
     "output_type": "stream",
     "text": [
      "Loaded 61 documents.\n"
     ]
    }
   ],
   "execution_count": 60
  },
  {
   "metadata": {
    "ExecuteTime": {
     "end_time": "2024-12-19T10:37:22.801981Z",
     "start_time": "2024-12-19T10:37:21.926816Z"
    }
   },
   "cell_type": "code",
   "source": [
    "from langchain_openai import OpenAIEmbeddings\n",
    "\n",
    "\n",
    "embeddings = OpenAIEmbeddings(model=\"text-embedding-3-small\")\n",
    "docs = [document.page_content for document in pdf_documents]\n",
    "\n",
    "all_documents = pdf_documents #+ web_documents"
   ],
   "id": "2809e4a68ef0a62f",
   "outputs": [],
   "execution_count": 62
  },
  {
   "metadata": {
    "ExecuteTime": {
     "end_time": "2024-12-19T10:37:23.374988Z",
     "start_time": "2024-12-19T10:37:23.368898Z"
    }
   },
   "cell_type": "code",
   "source": "len(all_documents)",
   "id": "ac43b2a83095e900",
   "outputs": [
    {
     "data": {
      "text/plain": [
       "61"
      ]
     },
     "execution_count": 63,
     "metadata": {},
     "output_type": "execute_result"
    }
   ],
   "execution_count": 63
  },
  {
   "metadata": {
    "ExecuteTime": {
     "end_time": "2024-12-19T10:34:46.273727Z",
     "start_time": "2024-12-19T10:34:46.265296Z"
    }
   },
   "cell_type": "code",
   "source": "all_documents[30:35]",
   "id": "464fdce1beffe945",
   "outputs": [
    {
     "data": {
      "text/plain": [
       "[Document(metadata={'source': 'C:/Workspaces/project_ma/pdfs\\\\20241221_SE_all_races.pdf', 'page': 10}, page_content='4 2024-12-21T13:10:00+09:00\\n4 2024-12-21T13:10:00+09:00\\n4 2024-12-21T13:10:00+09:00\\n5 2024-12-21T14:00:00+09:00\\n5 2024-12-21T14:00:00+09:00\\n5 2024-12-21T14:00:00+09:00\\n5 2024-12-21T14:00:00+09:00\\n5 2024-12-21T14:00:00+09:00\\n5 2024-12-21T14:00:00+09:00\\n5 2024-12-21T14:00:00+09:00\\n5 2024-12-21T14:00:00+09:00\\n5 2024-12-21T14:00:00+09:00\\n5 2024-12-21T14:00:00+09:00\\n5 2024-12-21T14:00:00+09:00\\n6 2024-12-21T14:50:00+09:00\\n6 2024-12-21T14:50:00+09:00\\n6 2024-12-21T14:50:00+09:00\\n6 2024-12-21T14:50:00+09:00\\n6 2024-12-21T14:50:00+09:00\\n6 2024-12-21T14:50:00+09:00\\n6 2024-12-21T14:50:00+09:00\\n6 2024-12-21T14:50:00+09:00\\n6 2024-12-21T14:50:00+09:00\\n6 2024-12-21T14:50:00+09:00\\n6 2024-12-21T14:50:00+09:00\\n7 2024-12-21T15:40:00+09:00\\n7 2024-12-21T15:40:00+09:00\\n7 2024-12-21T15:40:00+09:00\\n7 2024-12-21T15:40:00+09:00\\n7 2024-12-21T15:40:00+09:00\\n7 2024-12-21T15:40:00+09:00\\n7 2024-12-21T15:40:00+09:00\\n7 2024-12-21T15:40:00+09:00\\n7 2024-12-21T15:40:00+09:00\\n7 2024-12-21T15:40:00+09:00\\n7 2024-12-21T15:40:00+09:00\\n8 2024-12-21T16:30:00+09:00\\n8 2024-12-21T16:30:00+09:00\\n8 2024-12-21T16:30:00+09:00\\n8 2024-12-21T16:30:00+09:00\\n8 2024-12-21T16:30:00+09:00\\n8 2024-12-21T16:30:00+09:00\\n8 2024-12-21T16:30:00+09:00'),\n",
       " Document(metadata={'source': 'C:/Workspaces/project_ma/pdfs\\\\20241221_SE_all_races.pdf', 'page': 11}, page_content='8 2024-12-21T16:30:00+09:00\\n8 2024-12-21T16:30:00+09:00\\n8 2024-12-21T16:30:00+09:00\\n8 2024-12-21T16:30:00+09:00\\n9 2024-12-21T17:00:00+09:00\\n9 2024-12-21T17:00:00+09:00\\n9 2024-12-21T17:00:00+09:00\\n9 2024-12-21T17:00:00+09:00\\n9 2024-12-21T17:00:00+09:00\\n9 2024-12-21T17:00:00+09:00\\n9 2024-12-21T17:00:00+09:00\\n9 2024-12-21T17:00:00+09:00\\n9 2024-12-21T17:00:00+09:00\\n9 2024-12-21T17:00:00+09:00\\n9 2024-12-21T17:00:00+09:00\\n10 2024-12-21T17:30:00+09:00\\n10 2024-12-21T17:30:00+09:00\\n10 2024-12-21T17:30:00+09:00\\n10 2024-12-21T17:30:00+09:00\\n10 2024-12-21T17:30:00+09:00\\n10 2024-12-21T17:30:00+09:00\\n10 2024-12-21T17:30:00+09:00\\n10 2024-12-21T17:30:00+09:00\\n10 2024-12-21T17:30:00+09:00\\n10 2024-12-21T17:30:00+09:00\\n10 2024-12-21T17:30:00+09:00\\n11 2024-12-21T18:00:00+09:00\\n11 2024-12-21T18:00:00+09:00\\n11 2024-12-21T18:00:00+09:00\\n11 2024-12-21T18:00:00+09:00\\n11 2024-12-21T18:00:00+09:00\\n11 2024-12-21T18:00:00+09:00\\n11 2024-12-21T18:00:00+09:00\\n11 2024-12-21T18:00:00+09:00\\n11 2024-12-21T18:00:00+09:00\\n11 2024-12-21T18:00:00+09:00\\n11 2024-12-21T18:00:00+09:00'),\n",
       " Document(metadata={'source': 'C:/Workspaces/project_ma/pdfs\\\\20241222_BG_all_races.pdf', 'page': 0}, page_content='items.item.age items.item.chulNo items.item.hrName\\n2 1 윈드웨이\\n2 10 메가플레이\\n2 11 동남돌풍\\n2 12 글로벌하이\\n2 2 닥터매터스\\n2 3 성실시대\\n2 4 퍼스트인텐션\\n2 5 최강트리플\\n2 6 퀸라이런\\n2 7 로드투에이스\\n2 8 퀸더골드\\n2 9 아리온의검\\n2 1 바빌론폭스\\n2 10 위대한약속\\n2 11 당대투사\\n2 12 아스터\\n2 2 소우굿\\n2 3 석세스카우\\n2 4 벌교마법사\\n2 5 더스틴마린\\n2 6 불의평화\\n2 7 토함산태양\\n2 8 리먼트\\n3 9 원더풀포춘\\n3 1 해운대선샤인\\n2 10 초격차\\n4 11 스타파크\\n3 12 퀸즈플레타\\n2 2 아리온태양\\n2 3 보령라이트퀸\\n2 4 소드마스터\\n2 5 라임트리\\n4 6 핀홀아이\\n4 7 아델호랑이\\n4 8 테이아\\n2 9 딕시위너\\n4 1 투투플라잉\\n2 10 드래곤리벤저\\n2 11 로널드덕\\n2 12 캄패스트\\n6 2 블루스카이\\n3 3 전설의순간'),\n",
       " Document(metadata={'source': 'C:/Workspaces/project_ma/pdfs\\\\20241222_BG_all_races.pdf', 'page': 1}, page_content='3 4 천하건강\\n3 5 바이스로열\\n3 6 광풍로드\\n3 7 가온보스\\n2 8 스마트보스\\n3 9 윈윈\\n3 1 세광최강\\n3 10 볼케이노그릿\\n4 11 구디\\n5 12 은성영웅\\n4 2 레몬불패\\n4 3 파이어매직\\n5 4 스텔루나\\n3 5 유어턴\\n5 6 행복한함안\\n5 7 야생화\\n3 8 아잔타\\n5 9 아름다운인연\\n4 1 영광의에이스\\n3 10 퍼펙트액션\\n4 11 파워사운드\\n4 12 골든플러스\\n4 2 노던비드\\n4 3 매직클래스\\n5 4 아너칼\\n4 5 정문코빗\\n4 6 카르페바벨\\n4 7 한강세이버\\n4 8 킹애니데이\\n3 9 비월'),\n",
       " Document(metadata={'source': 'C:/Workspaces/project_ma/pdfs\\\\20241222_BG_all_races.pdf', 'page': 2}, page_content='items.item.hrOrd1CntT items.item.hrOrd2CntT items.item.hrRcCntT\\n29 34 203\\n22 20 165\\n29 33 365\\n19 19 186\\n80 78 466\\n32 28 203\\n32 45 772\\n40 44 430\\n23 22 255\\n38 47 300\\n48 47 501\\n15 13 246\\n22 20 165\\n48 47 501\\n48 50 376\\n48 47 501\\n38 49 309\\n53 52 456\\n22 20 165\\n39 45 308\\n40 44 430\\n80 78 466\\n19 19 186\\n21 17 253\\n41 38 278\\n53 52 456\\n32 45 772\\n49 35 291\\n15 13 246\\n38 49 309\\n73 55 300\\n63 53 398\\n32 45 772\\n53 52 456\\n41 31 400\\n80 78 466\\n32 45 772\\n73 55 300\\n38 47 300\\n40 44 430\\n32 36 340\\n56 33 288')]"
      ]
     },
     "execution_count": 53,
     "metadata": {},
     "output_type": "execute_result"
    }
   ],
   "execution_count": 53
  },
  {
   "metadata": {
    "ExecuteTime": {
     "end_time": "2024-12-19T09:39:06.070974Z",
     "start_time": "2024-12-19T09:39:06.067384Z"
    }
   },
   "cell_type": "code",
   "source": [
    "for doc in all_documents[19:21]:\n",
    "    print(doc.page_content)"
   ],
   "id": "e0338c0feaf38f93",
   "outputs": [
    {
     "name": "stdout",
     "output_type": "stream",
     "text": [
      "8 2024-12-20T18:00:00+09:00\n",
      "8 2024-12-20T18:00:00+09:00\n",
      "8 2024-12-20T18:00:00+09:00\n",
      "8 2024-12-20T18:00:00+09:00\n",
      "items.item.age 나이\n",
      "items.item.chulNo 출전 번호\n",
      "items.item.hrName 말 이름\n",
      "items.item.hrOrd1CntT 통산 1등횟수\n",
      "items.item.hrOrd2CntT 통산 2등횟수\n",
      "items.item.hrRcCntT 통산 출주횟수\n",
      "items.item.jkName 기수 이름\n",
      "items.item.meet 출전 경기장\n",
      "items.item.rank 출전 게임 랭크\n",
      "items.item.rcDate 경기 날짜\n",
      "items.item.rcNo 경기 번호\n",
      "items.item.schStTime 경기 시작 시간\n"
     ]
    }
   ],
   "execution_count": 39
  },
  {
   "metadata": {},
   "cell_type": "markdown",
   "source": "## Vector Store 구축 - FAISS 사용",
   "id": "ed0b8adb1ee4754e"
  },
  {
   "metadata": {
    "ExecuteTime": {
     "end_time": "2024-12-19T10:37:31.527174Z",
     "start_time": "2024-12-19T10:37:29.664878Z"
    }
   },
   "cell_type": "code",
   "source": [
    "from langchain.vectorstores import FAISS\n",
    "\n",
    "vectors = FAISS.from_documents(all_documents, embeddings) #documents : Document\n",
    "vectors"
   ],
   "id": "a5d8266ed7b37972",
   "outputs": [
    {
     "data": {
      "text/plain": [
       "<langchain_community.vectorstores.faiss.FAISS at 0x24ec1b25670>"
      ]
     },
     "execution_count": 64,
     "metadata": {},
     "output_type": "execute_result"
    }
   ],
   "execution_count": 64
  },
  {
   "metadata": {
    "ExecuteTime": {
     "end_time": "2024-12-19T10:37:31.927692Z",
     "start_time": "2024-12-19T10:37:31.641216Z"
    }
   },
   "cell_type": "code",
   "source": [
    "results = vectors.similarity_search(\"부산\", k=3)\n",
    "print(len(results))\n",
    "# for i, doc in enumerate(results):\n",
    "#     print(i, doc.page_content)\n",
    "\n",
    "print(results[2])"
   ],
   "id": "1a9a68ebf20e29ca",
   "outputs": [
    {
     "name": "stdout",
     "output_type": "stream",
     "text": [
      "3\n",
      "page_content='items.item.age items.item.chulNo items.item.hrName\n",
      "3 1 한산\n",
      "2 10 장타호령\n",
      "3 2 갈채\n",
      "2 3 스타덤\n",
      "3 4 파도소리\n",
      "3 5 평화오름\n",
      "3 6 출사표\n",
      "2 7 환영파티\n",
      "3 8 킹앤탑\n",
      "2 9 신통방통\n",
      "3 1 월등한\n",
      "3 10 백호일마\n",
      "2 2 원더풀대양\n",
      "3 3 핸섬보이\n",
      "2 4 마패도끼\n",
      "2 5 대군주\n",
      "3 6 청신호\n",
      "2 7 출품작\n",
      "3 8 자유시대\n",
      "3 9 황해명장\n",
      "3 1 명품챔프\n",
      "4 10 청마여제\n",
      "3 2 애조로\n",
      "3 3 가온빛\n",
      "3 4 신조\n",
      "5 5 봉성여걸\n",
      "3 6 캐논공주\n",
      "4 7 붉은등불\n",
      "3 8 금빛여제\n",
      "4 9 걸작탄생\n",
      "4 1 명품함성\n",
      "2 10 등고자비\n",
      "2 2 캡틴공주\n",
      "3 3 질풍태양\n",
      "2 4 한라봉\n",
      "2 5 별빛찬란\n",
      "4 6 드림더킹\n",
      "3 7 서부두\n",
      "3 8 혜성스타\n",
      "2 9 정정당당\n",
      "4 1 웅진퍼스트\n",
      "6 10 선덕공주' metadata={'source': 'C:/Workspaces/project_ma/pdfs\\\\20241220_JJ_all_races.pdf', 'page': 0}\n"
     ]
    }
   ],
   "execution_count": 65
  },
  {
   "metadata": {},
   "cell_type": "markdown",
   "source": "## Retriever 객체 생성",
   "id": "d7bec4d8b902fa71"
  },
  {
   "metadata": {
    "ExecuteTime": {
     "end_time": "2024-12-19T10:37:32.206174Z",
     "start_time": "2024-12-19T10:37:32.197893Z"
    }
   },
   "cell_type": "code",
   "source": [
    "retriever = vectors.as_retriever()\n",
    "retriever"
   ],
   "id": "8c576e14e151d823",
   "outputs": [
    {
     "data": {
      "text/plain": [
       "VectorStoreRetriever(tags=['FAISS', 'OpenAIEmbeddings'], vectorstore=<langchain_community.vectorstores.faiss.FAISS object at 0x0000024EC1B25670>, search_kwargs={})"
      ]
     },
     "execution_count": 66,
     "metadata": {},
     "output_type": "execute_result"
    }
   ],
   "execution_count": 66
  },
  {
   "metadata": {
    "ExecuteTime": {
     "end_time": "2024-12-19T10:40:01.702680Z",
     "start_time": "2024-12-19T10:39:48.119225Z"
    }
   },
   "cell_type": "code",
   "source": [
    "# 벡터스토어 검색 및 LLM 질의\n",
    "\n",
    "from langchain_openai import ChatOpenAI\n",
    "from langchain.chains import RetrievalQA\n",
    "model = ChatOpenAI(\n",
    "    model=\"gpt-4o\",\n",
    "    temperature=0.3,\n",
    ")\n",
    "\n",
    "#질의 객체\n",
    "rtvr_qa=RetrievalQA.from_chain_type(\n",
    "    llm=model,\n",
    "    retriever=retriever,\n",
    "    chain_type = 'stuff' #검색된 내용을 하나의 텍스트로 생성해서 LLM에 전달\n",
    ")\n",
    "\n",
    "#llm 질의\n",
    "response1 = rtvr_qa.invoke('22일 부경 경기장의 경기들에 대해 알려줘')\n",
    "print(response1)"
   ],
   "id": "c342874c316efeb",
   "outputs": [
    {
     "name": "stdout",
     "output_type": "stream",
     "text": [
      "{'query': '22일 부경 경기장의 경기들에 대해 알려줘', 'result': '2024년 12월 22일에 부경 경기장에서 열리는 경기는 다음과 같습니다:\\n\\n- 국6등급 경기:\\n  - 기수: 최은경, 정동철, 김혜선, 이효식, 진겸, 김태현, 최시대, 정도윤, 먼로, 다나카, 우에다, 김어수, 신윤섭, 서승운, 박재이, 송경윤, 전진구\\n\\n- 국5등급 경기:\\n  - 기수: 권오찬, 최은경, 김동영, 김혜선, 최시대, 정도윤, 먼로, 서승운, 전진구, 이성재, 유광희, 진겸\\n\\n- 혼4등급 경기:\\n  - 기수: 김어수, 먼로, 김동영, 김혜선, 우에다, 최은경, 최시대, 이성재, 송경윤, 김태현, 서승운, 전진구\\n\\n- 국3등급 경기:\\n  - 기수: 김혜선, 먼로, 최은경, 박재이, 최시대, 김어수, 정동철, 이성재, 김동영, 우에다, 정도윤, 이효식\\n\\n- 2등급 경기:\\n  - 기수: 먼로, 송경윤, 서승운, 다나카, 박재이, 전진구, 이효식, 정도윤, 진겸, 김혜선, 유광희, 최은경\\n\\n이 경기는 모두 부경 경기장에서 열리며, 각 등급별로 다양한 기수들이 참여합니다.'}\n"
     ]
    }
   ],
   "execution_count": 71
  },
  {
   "metadata": {
    "ExecuteTime": {
     "end_time": "2024-12-19T08:23:19.791190Z",
     "start_time": "2024-12-19T08:23:19.787158Z"
    }
   },
   "cell_type": "code",
   "source": [
    "#response1 = rtvr_qa.invoke('오토벳에 대해 알려줘')\n",
    "#print(response1)\n",
    "#TODO pdf 업로드 시, 내용이 누락될 가능성?\n",
    "#race_guide.pdf에 오토벳에 대한 내용이 있는데 뱉어주는 게 없다.\n",
    "#민하님께서 guide.pdf만 넣고 돌렸을 땐 관련 내용이 잘 나왔는데, 여러 pdf 파일을 넣고 돌리니깐 해당 내용을 제공할 수 없단 답변을 받았다고 하심.\n",
    "#이에 다 같이 돌려봤으나 똑같은 증상을 겪었다."
   ],
   "id": "2ba39f0253b1570",
   "outputs": [],
   "execution_count": 29
  }
 ],
 "metadata": {
  "kernelspec": {
   "display_name": "Python 3",
   "language": "python",
   "name": "python3"
  },
  "language_info": {
   "codemirror_mode": {
    "name": "ipython",
    "version": 2
   },
   "file_extension": ".py",
   "mimetype": "text/x-python",
   "name": "python",
   "nbconvert_exporter": "python",
   "pygments_lexer": "ipython2",
   "version": "2.7.6"
  }
 },
 "nbformat": 4,
 "nbformat_minor": 5
}
