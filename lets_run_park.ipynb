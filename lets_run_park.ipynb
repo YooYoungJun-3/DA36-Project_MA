{
 "cells": [
  {
   "metadata": {
    "collapsed": true,
    "ExecuteTime": {
     "end_time": "2024-12-19T02:20:01.674151Z",
     "start_time": "2024-12-19T02:20:01.651041Z"
    }
   },
   "cell_type": "code",
   "source": [
    "from dotenv import load_dotenv\n",
    "\n",
    "load_dotenv()"
   ],
   "id": "initial_id",
   "outputs": [
    {
     "data": {
      "text/plain": [
       "True"
      ]
     },
     "execution_count": 1,
     "metadata": {},
     "output_type": "execute_result"
    }
   ],
   "execution_count": 1
  },
  {
   "metadata": {
    "ExecuteTime": {
     "end_time": "2024-12-19T02:20:05.696062Z",
     "start_time": "2024-12-19T02:20:04.196773Z"
    }
   },
   "cell_type": "code",
   "source": [
    "from langchain_core.prompts import ChatPromptTemplate\n",
    "#from langchain_core.messages import Humanmeesages\n",
    "prompt_template = ChatPromptTemplate([\n",
    "    ('system', \"\"\"You are a professional chatbot working at a horse racing track, providing detailed, helpful, and dynamic information based on the following sources:\n",
    "    Quick Information Access: Summarize key details such as race schedules, race types, and betting methods in an easy-to-understand way for beginners.\n",
    "    \"Please provide the information based on the following websites:\n",
    "\n",
    "https://namu.wiki/w/%EA%B2%BD%EB%A7%88/%ED%95%9C%EA%B5%AD\n",
    "https://race.kra.co.kr/raceguide/RaceProcessGetService.do\n",
    "https://knetz.kra.co.kr/index.do\n",
    "https://park.kra.co.kr/seoul_main.do?strToken=XXXXX\n",
    "http://www.okrace.co.kr/okrace/ai_info.php\"\n",
    "    Dynamic Betting Guidance: Provide tips for different types of bets (Win, Place, Exacta, etc.) and display real-time odds.\n",
    "    Location-Specific Information: Offer details about the specific racetrack, including facilities, events, and location-based info.\n",
    "    Track-Specific Information: Customize responses based on unique features and events of each racetrack.\n",
    "    Ensure that all responses are friendly, accurate, and cater to both newcomers and regular visitors.\"\"\"),\n",
    "    \n",
    "    ('user', '{question}')\n",
    "])\n",
    "\n",
    "# 출력 파서 생성\n",
    "from langchain_core.output_parsers import StrOutputParser\n",
    "\n",
    "output_parser = StrOutputParser()"
   ],
   "id": "29375b321eb48648",
   "outputs": [],
   "execution_count": 2
  },
  {
   "metadata": {},
   "cell_type": "markdown",
   "source": "## pdf 파일 로드",
   "id": "a9bfbf350fce414"
  },
  {
   "metadata": {
    "ExecuteTime": {
     "end_time": "2024-12-19T02:21:43.964570Z",
     "start_time": "2024-12-19T02:20:35.269354Z"
    }
   },
   "cell_type": "code",
   "source": [
    "from langchain_openai import ChatOpenAI\n",
    "from langchain_core.messages import SystemMessage,HumanMessage,AIMessage\n",
    "from langchain_community.document_loaders import PyPDFLoader\n",
    "import os\n",
    "\n",
    "# 여러 PDF 파일 경로를 리스트로 생성\n",
    "pdf_folder = 'C:/Workspaces/project_ma/pdfs'\n",
    "pdf_files = [os.path.join(pdf_folder, file) for file in os.listdir(pdf_folder) if file.endswith('.pdf')]\n",
    "\n",
    "# 각 PDF 파일을 로드하여 문서로 처리\n",
    "pdf_documents = []\n",
    "for pdf_file in pdf_files:\n",
    "    loader = PyPDFLoader(pdf_file)\n",
    "    pdf_documents.extend(loader.load())  # 문서를 리스트에 추가\n",
    "\n",
    "print(f\"Loaded {len(pdf_documents)} documents.\")"
   ],
   "id": "4d6debc239fde5d3",
   "outputs": [
    {
     "name": "stdout",
     "output_type": "stream",
     "text": [
      "Loaded 203 documents.\n"
     ]
    }
   ],
   "execution_count": 4
  },
  {
   "metadata": {},
   "cell_type": "markdown",
   "source": "## XML 파일 로드",
   "id": "5ca06f9a03e03062"
  },
  {
   "metadata": {
    "ExecuteTime": {
     "end_time": "2024-12-19T02:49:00.331834Z",
     "start_time": "2024-12-19T02:49:00.150113Z"
    }
   },
   "cell_type": "code",
   "source": [
    "from langchain_community.document_loaders import UnstructuredXMLLoader\n",
    "import os\n",
    "# 여러 xml 파일 경로를 리스트로 생성\n",
    "xml_folder = 'C:/Workspaces/project_ma/xmls'\n",
    "xml_files = [os.path.join(xml_folder, file) for file in os.listdir(xml_folder) if file.endswith('.xml')]\n",
    "\n",
    "# xml 파일들 로드\n",
    "xml_documents = []\n",
    "for xml_file in xml_files:\n",
    "    loader = UnstructuredXMLLoader(xml_file)\n",
    "    xml_documents.extend(loader.load())  # 문서를 리스트에 추가\n",
    "\n",
    "print(f\"Loaded {len(xml_documents)} documents.\")"
   ],
   "id": "90389e0f6dfcfff3",
   "outputs": [
    {
     "name": "stdout",
     "output_type": "stream",
     "text": [
      "Loaded 1 documents.\n"
     ]
    }
   ],
   "execution_count": 34
  },
  {
   "metadata": {
    "ExecuteTime": {
     "end_time": "2024-12-19T03:34:33.405252Z",
     "start_time": "2024-12-19T03:34:33.399190Z"
    }
   },
   "cell_type": "code",
   "source": "type(xml_documents)",
   "id": "a428588698f16858",
   "outputs": [
    {
     "data": {
      "text/plain": [
       "langchain_core.documents.base.Document"
      ]
     },
     "execution_count": 47,
     "metadata": {},
     "output_type": "execute_result"
    }
   ],
   "execution_count": 47
  },
  {
   "metadata": {
    "ExecuteTime": {
     "end_time": "2024-12-19T03:34:41.001615Z",
     "start_time": "2024-12-19T03:34:40.950636Z"
    }
   },
   "cell_type": "code",
   "source": "xml_documents[0].replace('\\n', ' ')\n",
   "id": "b8b864cd115830d3",
   "outputs": [
    {
     "ename": "AttributeError",
     "evalue": "'list' object has no attribute 'replace'",
     "output_type": "error",
     "traceback": [
      "\u001B[1;31m---------------------------------------------------------------------------\u001B[0m",
      "\u001B[1;31mAttributeError\u001B[0m                            Traceback (most recent call last)",
      "Cell \u001B[1;32mIn[48], line 1\u001B[0m\n\u001B[1;32m----> 1\u001B[0m \u001B[43mxml_documents\u001B[49m\u001B[38;5;241;43m.\u001B[39;49m\u001B[43mreplace\u001B[49m(\u001B[38;5;124m'\u001B[39m\u001B[38;5;130;01m\\n\u001B[39;00m\u001B[38;5;124m'\u001B[39m, \u001B[38;5;124m'\u001B[39m\u001B[38;5;124m \u001B[39m\u001B[38;5;124m'\u001B[39m)\n",
      "\u001B[1;31mAttributeError\u001B[0m: 'list' object has no attribute 'replace'"
     ]
    }
   ],
   "execution_count": 48
  },
  {
   "metadata": {},
   "cell_type": "markdown",
   "source": "## 데이터 병합 + 임베딩 모델 호출",
   "id": "3d57201bf114f0e1"
  },
  {
   "metadata": {},
   "cell_type": "code",
   "outputs": [],
   "execution_count": null,
   "source": [
    "from langchain_openai import OpenAIEmbeddings\n",
    "\n",
    "embeddings = OpenAIEmbeddings(model=\"text-embedding-3-small\")\n",
    "\n",
    "all_documents = pdf_documents + xml_documents"
   ],
   "id": "94c5cf7e31de3a38"
  },
  {
   "metadata": {},
   "cell_type": "markdown",
   "source": "## Vector Store 구축 - FAISS 사용",
   "id": "ed0b8adb1ee4754e"
  },
  {
   "metadata": {
    "ExecuteTime": {
     "end_time": "2024-12-19T02:49:47.121320Z",
     "start_time": "2024-12-19T02:49:42.762663Z"
    }
   },
   "cell_type": "code",
   "source": [
    "from langchain.vectorstores import FAISS\n",
    "\n",
    "vectors = FAISS.from_documents(all_documents, embeddings) #documents : Document\n",
    "vectors"
   ],
   "id": "a5d8266ed7b37972",
   "outputs": [
    {
     "data": {
      "text/plain": [
       "<langchain_community.vectorstores.faiss.FAISS at 0x12a47c545c0>"
      ]
     },
     "execution_count": 36,
     "metadata": {},
     "output_type": "execute_result"
    }
   ],
   "execution_count": 36
  },
  {
   "metadata": {},
   "cell_type": "markdown",
   "source": "## Retriever 객체 생성",
   "id": "d7bec4d8b902fa71"
  },
  {
   "metadata": {
    "ExecuteTime": {
     "end_time": "2024-12-19T02:49:50.305033Z",
     "start_time": "2024-12-19T02:49:50.297230Z"
    }
   },
   "cell_type": "code",
   "source": [
    "retriever = vectors.as_retriever()\n",
    "retriever"
   ],
   "id": "8c576e14e151d823",
   "outputs": [
    {
     "data": {
      "text/plain": [
       "VectorStoreRetriever(tags=['FAISS', 'OpenAIEmbeddings'], vectorstore=<langchain_community.vectorstores.faiss.FAISS object at 0x0000012A47C545C0>, search_kwargs={})"
      ]
     },
     "execution_count": 37,
     "metadata": {},
     "output_type": "execute_result"
    }
   ],
   "execution_count": 37
  },
  {
   "metadata": {
    "ExecuteTime": {
     "end_time": "2024-12-19T02:49:53.057344Z",
     "start_time": "2024-12-19T02:49:50.824629Z"
    }
   },
   "cell_type": "code",
   "source": [
    "# 벡터스토어 검색 및 LLM 질의\n",
    "\n",
    "from langchain_openai import ChatOpenAI\n",
    "from langchain.chains import RetrievalQA\n",
    "model = ChatOpenAI(\n",
    "    model=\"gpt-4o\",\n",
    "    temperature=0,\n",
    ")\n",
    "\n",
    "#질의 객체\n",
    "rtvr_qa=RetrievalQA.from_chain_type(\n",
    "    llm=model,\n",
    "    retriever=retriever,\n",
    "    chain_type = 'stuff' #검색된 내용을 하나의 텍스트로 생성해서 LLM에 전달\n",
    ")\n",
    "\n",
    "#llm 질의\n",
    "response1 = rtvr_qa.invoke('2024년 12월 20일 부경 경마장 경기에 대해 알려줘')\n",
    "print(response1)"
   ],
   "id": "c342874c316efeb",
   "outputs": [
    {
     "name": "stdout",
     "output_type": "stream",
     "text": [
      "{'query': '2024년 12월 20일 부경 경마장 경기에 대해 알려줘', 'result': '2024년 12월 20일은 경마 시행 계획에 따르면 부경 경마장에서 경기가 열리지 않는 날입니다. 12월 20일은 금요일로, 부경 경마장은 금요일에 경기를 시행하지 않습니다.'}\n"
     ]
    }
   ],
   "execution_count": 38
  },
  {
   "metadata": {
    "ExecuteTime": {
     "end_time": "2024-12-19T02:44:24.548064Z",
     "start_time": "2024-12-19T02:44:24.543341Z"
    }
   },
   "cell_type": "code",
   "source": [
    "#response1 = rtvr_qa.invoke('오토벳에 대해 알려줘')\n",
    "#print(response1)\n",
    "#TODO pdf 업로드 시, 내용이 누락될 가능성?\n",
    "#race_guide.pdf에 오토벳에 대한 내용이 있는데 뱉어주는 게 없다.\n",
    "#민하님께서 guide.pdf만 넣고 돌렸을 땐 관련 내용이 잘 나왔는데, 여러 pdf 파일을 넣고 돌리니깐 해당 내용을 제공할 수 없단 답변을 받았다고 하심.\n",
    "#이에 다 같이 돌려봤으나 똑같은 증상을 겪었다."
   ],
   "id": "2ba39f0253b1570",
   "outputs": [],
   "execution_count": 28
  },
  {
   "metadata": {},
   "cell_type": "code",
   "outputs": [],
   "source": "",
   "id": "13956d1f70ea6dcf",
   "execution_count": null
  }
 ],
 "metadata": {
  "kernelspec": {
   "display_name": "Python 3",
   "language": "python",
   "name": "python3"
  },
  "language_info": {
   "codemirror_mode": {
    "name": "ipython",
    "version": 2
   },
   "file_extension": ".py",
   "mimetype": "text/x-python",
   "name": "python",
   "nbconvert_exporter": "python",
   "pygments_lexer": "ipython2",
   "version": "2.7.6"
  }
 },
 "nbformat": 4,
 "nbformat_minor": 5
}
