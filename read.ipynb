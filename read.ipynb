{
 "cells": [
  {
   "metadata": {
    "ExecuteTime": {
     "end_time": "2024-12-19T03:04:52.711041Z",
     "start_time": "2024-12-19T03:04:52.705797Z"
    }
   },
   "cell_type": "code",
   "source": [
    "import xml.etree.ElementTree as ET\n",
    "tree =ET.parse('C:/Workspaces/project_ma/xml/jockey_career_record.xml')\n",
    "root = tree.getroot()"
   ],
   "id": "f3e8ee0742495b8",
   "outputs": [],
   "execution_count": 21
  },
  {
   "metadata": {
    "ExecuteTime": {
     "end_time": "2024-12-19T03:06:35.829212Z",
     "start_time": "2024-12-19T03:06:35.825009Z"
    }
   },
   "cell_type": "code",
   "source": "",
   "id": "7bead4eddcc6f051",
   "outputs": [
    {
     "ename": "SyntaxError",
     "evalue": "incomplete input (3690652129.py, line 1)",
     "output_type": "error",
     "traceback": [
      "\u001B[1;36m  Cell \u001B[1;32mIn[30], line 1\u001B[1;36m\u001B[0m\n\u001B[1;33m    for country in root.findall(1):\u001B[0m\n\u001B[1;37m                                   ^\u001B[0m\n\u001B[1;31mSyntaxError\u001B[0m\u001B[1;31m:\u001B[0m incomplete input\n"
     ]
    }
   ],
   "execution_count": 30
  }
 ],
 "metadata": {
  "kernelspec": {
   "display_name": "Python 3",
   "language": "python",
   "name": "python3"
  },
  "language_info": {
   "codemirror_mode": {
    "name": "ipython",
    "version": 2
   },
   "file_extension": ".py",
   "mimetype": "text/x-python",
   "name": "python",
   "nbconvert_exporter": "python",
   "pygments_lexer": "ipython2",
   "version": "2.7.6"
  }
 },
 "nbformat": 4,
 "nbformat_minor": 5
}
