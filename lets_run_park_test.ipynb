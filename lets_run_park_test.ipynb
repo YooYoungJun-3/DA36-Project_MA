{
 "cells": [
  {
   "cell_type": "code",
   "id": "initial_id",
   "metadata": {
    "collapsed": true,
    "ExecuteTime": {
     "end_time": "2024-12-19T05:36:23.007389Z",
     "start_time": "2024-12-19T05:36:23.000080Z"
    }
   },
   "source": [
    "from dotenv import load_dotenv\n",
    "load_dotenv()"
   ],
   "outputs": [
    {
     "data": {
      "text/plain": [
       "True"
      ]
     },
     "execution_count": 25,
     "metadata": {},
     "output_type": "execute_result"
    }
   ],
   "execution_count": 25
  },
  {
   "metadata": {},
   "cell_type": "markdown",
   "source": "## 전체 pdf 파일을 vector store로 만들어 검색하기",
   "id": "a9bfbf350fce414"
  },
  {
   "metadata": {
    "jupyter": {
     "is_executing": true
    },
    "ExecuteTime": {
     "start_time": "2024-12-19T05:36:26.057962Z"
    }
   },
   "cell_type": "code",
   "source": [
    "from langchain_openai import ChatOpenAI\n",
    "from langchain_core.messages import SystemMessage,HumanMessage,AIMessage\n",
    "from langchain_community.document_loaders import PyPDFLoader\n",
    "import os\n",
    "\n",
    "# 여러 PDF 파일 경로를 리스트로 생성\n",
    "pdf_folder = './pdfs'\n",
    "pdf_files = [os.path.join(pdf_folder, file) for file in os.listdir(pdf_folder) if file.endswith('.pdf')]\n",
    "\n",
    "# 각 PDF 파일을 로드하여 문서로 처리\n",
    "pdf_documents = []\n",
    "for pdf_file in pdf_files:\n",
    "    loader = PyPDFLoader(pdf_file)\n",
    "    documents = loader.load()\n",
    "    for doc in documents:\n",
    "        doc.page_content = doc.page_content.replace('\\n', ' ').replace('\\t', ' ')\n",
    "    pdf_documents.extend(documents)  # 문서를 리스트에 추가\n",
    "\n",
    "print(f\"Loaded {len(pdf_documents)} documents.\")"
   ],
   "id": "4d6debc239fde5d3",
   "outputs": [],
   "execution_count": null
  },
  {
   "metadata": {
    "ExecuteTime": {
     "end_time": "2024-12-19T04:51:30.709171Z",
     "start_time": "2024-12-19T04:51:30.705685Z"
    }
   },
   "cell_type": "code",
   "source": "pdf_documents[30]",
   "id": "9de818db1357928c",
   "outputs": [
    {
     "data": {
      "text/plain": [
       "Document(metadata={'source': './pdfs\\\\race_horse.pdf', 'page': 9}, page_content='- 5 - 제 1장 더러브렛의 체형을 본다 어떤 근거로 좋은 말이라고 하는가 경마장에서 빼어나게 훌륭한 말을 발견하고 감탄하면서 정말 좋은 말이라고 혼잣말을 할 때 곁에서 그 말에 동감해 주는 마음이 잘 통하는 사람은 그다지 많지 않다.그런 사람과 같이 경마를 하는 것은 참으로 즐거운 일이다.말을 볼 줄 아는 사람이기 때문이다.그러나 대부분의 사람들은 그 말이 어느 말이냐고, 어디가 좋은지 되묻는다.보면서도 모르겠느냐고 말하고 싶지만 되묻는 사람들의 마음은 충분히 이해할 수 있다.필자에게도 처음에는 모든 말이 다 비슷하게 보 이고 좋은 말인지 나쁜 말인지 전혀 모르던 시절이 있었으니 말이다. 말을 보는 눈을 뜨게 되다 말을 보는 안목을 기르기 위해서는 무엇보다도 말을 봐야 한다.필자의 경우에 는 경마중계방송 해설을 맡고 난 후부터 나름대로 말에 대해 평가할 수 있게 되 었다.해설을 하게 된 덕에 꼬박 24년 동안은 거의 한 주도 빼놓지 않고 경마를 보아왔으며 미호(美浦)트레이닝 센터까지 조교 모습을 보러 다녔다.이렇게 24년 동안 말을 보는 안목을 기른 샘이다. 물론 처음에는 고생도 많이 했다.말을 보는데 미숙했고 십여 분 뒤에는 해설 결과가 나와 버렸다.그래도 2〜3년이 지나자 상당히 자신감이 생겼다.그 즈음 부터 어느 정도 말을 보는 안목도 생겼다.필자는 경주 해설만 담당하고 패독 해 설은 하지 않았다.하지만 패독 해설을 듣고 있자면 주목해야 하는 말을 놓치거 나,주의해야 하는 부분을 언급하지 않고 있다고 느낄 때가 있었는데,실제로 경 주를 보면 필자의 생각이 맞을 때가 종종 있었기 때문이었다.')"
      ]
     },
     "execution_count": 28,
     "metadata": {},
     "output_type": "execute_result"
    }
   ],
   "execution_count": 28
  },
  {
   "metadata": {
    "ExecuteTime": {
     "end_time": "2024-12-19T04:51:36.855110Z",
     "start_time": "2024-12-19T04:51:36.556060Z"
    }
   },
   "cell_type": "code",
   "source": [
    "from langchain_openai import OpenAIEmbeddings\n",
    "\n",
    "embeddings = OpenAIEmbeddings(model=\"text-embedding-3-small\")"
   ],
   "id": "91328d7c6195f038",
   "outputs": [],
   "execution_count": 29
  },
  {
   "metadata": {
    "ExecuteTime": {
     "end_time": "2024-12-19T04:51:45.255841Z",
     "start_time": "2024-12-19T04:51:41.471938Z"
    }
   },
   "cell_type": "code",
   "source": [
    "from langchain.vectorstores import FAISS\n",
    "\n",
    "vector_store = FAISS.from_documents(pdf_documents, embeddings) #documents : Document"
   ],
   "id": "d1e9bf16ab9eb0cc",
   "outputs": [],
   "execution_count": 30
  },
  {
   "metadata": {
    "ExecuteTime": {
     "end_time": "2024-12-19T04:51:47.535816Z",
     "start_time": "2024-12-19T04:51:47.287344Z"
    }
   },
   "cell_type": "code",
   "source": [
    "results = vector_store.similarity_search(\"오토벳 \", k=1)\n",
    "print(len(results))"
   ],
   "id": "8e0879892446b5c7",
   "outputs": [
    {
     "name": "stdout",
     "output_type": "stream",
     "text": [
      "1\n"
     ]
    }
   ],
   "execution_count": 31
  },
  {
   "metadata": {
    "ExecuteTime": {
     "end_time": "2024-12-19T04:51:50.368916Z",
     "start_time": "2024-12-19T04:51:50.365356Z"
    }
   },
   "cell_type": "code",
   "source": "results[0]",
   "id": "b7cbff1bc8becfba",
   "outputs": [
    {
     "data": {
      "text/plain": [
       "Document(metadata={'source': './pdfs\\\\race_plan2024.pdf', 'page': 38}, page_content='Ⅴ. 2024년 경마시행 세부계획 2024년 경마시행 계획  35      ❍ 경주격별(단위 : m, 백만원)연번격일자경주명거리산지연령성별레이팅 상금 중량경마장오픈시리즈1G15월 12일제27회  코리안더비1800국3세암수오픈1000별AO크라운29월 8일제7회 코리아컵(IG3)1800\\u30003세↑\\u3000오픈1600마령O프 리 미 어39월 8일제7회 코리아스프린트(IG3)1200\\u30003세↑\\u3000오픈1400마령O프 리 미 어410월 13일제20회 대통령배2000국3세↑\\u3000오픈1000마령O프 리 미 어512월 1일제42회 그랑프리2300\\u30003세↑\\u3000오픈1000마령O프 리 미 어6G24월 28일제36회  뚝섬배1400\\u30003세↑암오픈700별AO퀸즈SS75월 19일제32회 서울마주협회장배1200\\u30003세↑\\u3000오픈700마령O스 프 린 터86월 16일제24회 농림축산식품부장관배2000국3세암수오픈700별AO크라운98월 4일제39회 KRA컵 클래식2000\\u30003세↑\\u3000오픈700마령O프 리 미 어10G33월 17일제22회  헤럴드경제배2000\\u30003세↑\\u3000오픈500마령O스 테 이 어114월 14일제32회 SBS스포츠 스프린트1200\\u30003세↑\\u3000오픈500마령O스 프 린 터124월 21일제23회 YTN배2000\\u30003세↑\\u3000오픈500마령O스 테 이 어136월 9일제17회 경기도지사배2000국3세암오픈500별AO티아라149월 7일제11회 제주특별자치도지사배1400국3세↑암오픈500별AO퀸즈FW15L2월 18일제22회  세계일보배1200국4세↑\\u3000오픈300별AO\\u3000162월 25일제37회 스포츠서울배1400국3세암수오픈200별A173월 24일제27회 동아일보배1800\\u30003세↑암오픈300별AO퀸즈SS185월 19일제34회 스포츠조선배2000국3세↑\\u3000R80↓200별B\\u3000\\u3000199월 7일제29회 문화일보배1200국2세암수오픈200별A\\u3000쥬 버 나 일209월 29일제40회 일간스포츠배1800국3세↑\\u3000R80↓200별B\\u3000\\u30002110월 20일제20회 농협중앙회장배1200국2세암수오픈200별A\\u3000쥬 버 나 일2211월 17일제18회 과천시장배1200\\u30002세\\u3000오픈200별A\\u3000\\u300023 특 4월 14일제2회  RWITC 트로피 (인도)1800\\u30003세↑암R80↓150별A교류244월 14일벚꽃경마 특별경주1200국3세↑\\u3000R65↓150별A254월 14일제7회 CHIA 트로피 (중국)1600국3세↑\\u3000R80↓150별A교류268월 25일제4회 Rookie Stakes@서울1200국2세\\u3000오픈150별A육성\\u3000279월 7일제31회 JRA 트로피 (일본)1800\\u30003세↑\\u3000R90↓150별B교류289월 7일제2회 OSAF 트로피 (남미)1200\\u30003세↑암R80↓150별B교류299월 7일제7회 HKJC 트로피 (홍콩)1200국3세↑\\u3000R65↓150별B교류309월 7일제14회 GC 트로피 (남아공)1700국3세↑\\u3000R80↓150별B교류319월 7일제1 8회  S L T C  트 로 피  (말 레 이 시 아)1400국3세↑\\u3000R80↓150별B교류')"
      ]
     },
     "execution_count": 32,
     "metadata": {},
     "output_type": "execute_result"
    }
   ],
   "execution_count": 32
  },
  {
   "metadata": {},
   "cell_type": "markdown",
   "source": "## 하나의 pdf 파일을 vector store로 만들어 검색하기",
   "id": "9f5ad9480f1bb527"
  },
  {
   "metadata": {
    "ExecuteTime": {
     "end_time": "2024-12-19T04:54:29.982648Z",
     "start_time": "2024-12-19T04:54:28.257219Z"
    }
   },
   "cell_type": "code",
   "source": [
    "from langchain_community.document_loaders import PyPDFLoader\n",
    "\n",
    "# 각 PDF 파일을 로드하여 문서로 처리\n",
    "pdf_documents = []\n",
    "for pdf_file in ['./pdfs/race_guide.pdf']:\n",
    "    loader = PyPDFLoader(pdf_file)\n",
    "    documents = loader.load()\n",
    "    for doc in documents:\n",
    "        doc.page_content = doc.page_content.replace('\\n', ' ').replace('\\t', ' ')\n",
    "    pdf_documents.extend(documents)\n",
    "\n",
    "pdf_documents"
   ],
   "id": "55208b34e7c5f00d",
   "outputs": [
    {
     "data": {
      "text/plain": [
       "[Document(metadata={'source': './pdfs/race_guide.pdf', 'page': 0}, page_content='경주결과를 보는 방법(순위게시대)현재 운영 중인 베팅방법 7가지경마진행 이해하기 부산경남경마공원 대표마 배당률 화면 보는 방법 오토벳(Auto Bet) 경주가 끝난 후 결과를 알려주는 순위게시대 1등에서 5등까지 순위를 발표합니다. 착차(순위 간 차이)란 결승선을 통과할 때 선행말과 후속말 간의 거리차를 말합니다. 우승마의 예상이 어려우신 경우 Auto Bet 즉,  자동선택방식을 이용해 보세요. ● 선택원리: 구매시점 기준 단승식 저배당 5위 내 임의선택 ● 구매방법: 구매표 상 ‘마번’ 대신 ‘자동(A)’칸에 가입·신청 연승식·복연승식 연승식: 구매마권이 연승식 8번인 경우 ▶7.0배의 배당률 복연승식: 구매마권이 복연승식 4번, 8번일 경우 ▶9.4배의 배당률 코차 (약 0.1~21cm) 머리차 (약 22~40cm) 목차 (약  52~100cm) 1/2마신차 (약 1.2m) 3/4마신차 (약 1.8m) 1마신차 (약 2.4m) 대차 (10마신 이상) 고속카메라로  1,500 1  초까지 식별합니다. 1마신은 0.18초, 6마신은 1초로 환산됩니다. 초보자를 위한 경마가이드 착차 표시 기준 경주번호 경주거리 심의 중 ‘녹색’ 점등 착차:   결승선 먼저 도달한 말의 코끝과  다음에 도달한 말의 코끝 차이   코, 머리, 목, 그 이상은 마신 단위로 표시 4펄롱 (결승 전방 800m 부터 결승선까지 1등마 기록) 3펄롱 (결승 전방 600m 부터 결승선까지 1등마 기록) 확정 시 ‘적색’ 점등 순위 ‘1~5등’ 표시 비워두세요! ① 배당방식 선택 ②자동(A) 선택 ③구입하고 싶은 금액 부산경남 대표 가족공원, 말테마파크www.kra.co.kr  구매 상한선 준수,   건강한 여가생활의 시작입니다.46745 부산광역시 강서구 가락대로 929 단  승 식 1등 말을 적중시키는 베팅방식 연  승 식  1, 2, 3등 내에 들어올 말 중 1두 적중시키는 베팅  방식(출주마가 7두 이하인 경우 1, 2 등 내에 들어온 말만 적중) 복  승 식  1등 말과 2등 말을 순서에 상관없이 적중시키는  베팅방식 쌍  승 식 1등 말과 2등 말을 순서대로 적중시키는 베팅방식 복연승 식  1, 2, 3등 내에 들어올 말 중 2두를 순서에  상관없이 적중시키는 베팅방식 삼복승 식  1, 2, 3등  말 3두를 순서에 상관없이 적중시키는  베팅방식 삼쌍승 식  1, 2, 3등 말 3두를 순서대로 적중시키는    베팅방식(모바일 구매) ❶  시료채취 및 약물검사  출전마 시료(혈액) 채취 후   약물검사를 합니다.(출발 180분전) ❷  장안소 집합  출전마의 개체식별, 체중계량,   장안 확인 및 건강상태를 확인합니다.(출발 50분전) ❸  전검량  기수 체중과 말의 부담중량을 확인합니다.   (출발 50분전) ❹  예시장  말의 상태를 관찰하고 우승마를 선정할 수   있도록 선보입니다. (출발 30분전) ❺  마권구매  마권발매가 시작되면 승식 및 구매액을   결정한 후 마권을 구입합니다. ❻  배당률예시  30초 간격으로 게시되는 현재   배당률을 통해 환급금을 예측할 수 있습니다. ❼  경주로 출장  경주로에서 준비운동을 하여 기수와   마필의 컨디션을 확인합니다. (출발 약 12분전) ❽  마감 및 배당률확정  본장과 지사의 마권발매기가  기계적으로 동시에 마감하면서 배당률이 확정됩니다. ❾  출발  배당률 확정 후 출발위원이 출발신호를 하면   경주가 시작됩니다. ❿  경주감시 및 중계  경주 중 20대의 카메라가 경주의   이상 유무를 감시하며 중계합니다. ⓫ 결승점 통과 ⓬  순위판정  1~2분 후 착순판정 전용카메라로 촬영된   영상으로 도착지를 심의판정하여 순위, 도착차,   경주기록 등을 게시합니다. ⓭  후검량  3~4분 후 전검량과의 차이가 있는지를   확인합니다. ⓮  재결심의 결승선 통과 후 순위확정 전까지 경주 중   규칙위반 여부를 심의하여 실격 등을 결정합니다. ⓯  순위확정  통상 4~5분 후 순위가 확정됩니다. ⓰  환급금 지급  순위확정 후 모든 발매창구에서   환급금을 지급합니다. 트리플나인 ★ 그랑프리(2018) 우승마 ★ 대통령배(2015, 2016, 2017, 2018)  4회 우승마 ★ 오너스컵(2016) 우승마 위너스맨 ★ 그랑프리(2022,2023) 2회 우승마 ★ 대통령배(2023) 우승마 ★ 코리아컵(2022) 우승마 파워블레이드 ★ 그랑프리(2017) 우승마 ★ 코리안더비(2016) 우승마 ★ 농림축산식품부장관배(2016) 우승마 1 3 2 '),\n",
       " Document(metadata={'source': './pdfs/race_guide.pdf', 'page': 1}, page_content='경마는 승식에 따라 다양하게 즐길 수 있습니다. 경마초보자는 적중률과 환급률이 높은 단승식이나 연승식을 즐기는 것이 바람직합니다. ※ 여러분이 구입하신 마권이 적중되면 배당률에 따라 환급받으실 수 있습니다. 마권 구매표 표기방법 경주번호 선택 (1경주) 승식선택 (단승식) 구입하고 싶은 금액 (2천원 구입) 하루 또는 이틀 후 경주 마권 예매 시 해당 경주일의 요일 표기 당일 마권구매 시는 미표기 렛츠런파크 부산경남 1경주 단승식 7번마에 2천원을 구입한 예시입니다. 렛츠런파크 선택 (서울, 부산경남, 제주) 선택하고 싶은 말 (7번말) 1등으로 도착 할 말의 1두를 적중시키는 방식 전자카드 전용승식(전자카드 센터 문의 및 홈페이지 참조) 1등과 2등으로 들어올 말 2두를 순서대로 적중시키는 방식 단승식 삼쌍승식 쌍승식 1~3등 안에 들어올 말 1두를 적중시키는 방식 연승식 1등, 2등 및 3등으로 들어올 말 3두를 순서에 상관없이 적중시키는 방식 1~3등 안에 들어올 말 2두를 순서에 상관없이 적중시키는 방식 1등과 2등으로 들어올 말 2두를 순서에 상관없이 적중시키는 방식 삼복승식 복연승식 복승식 부산경남경마공원 제 1경주 2천원 구입 단승식 7번 부산경남경마공원 제 1경주 2천원 구입 연승식 7번 부산경남경마공원 제 1경주 2천원 구입 복연승식 4-6번 부산경남경마공원 제 1경주 2천원 구입 복승식 3-5번 부산경남경마공원 제 1경주 2천원 구입 쌍승식 4(1등)-8(2등)번 부산경남경마공원 제 1경주 2천원 구입 삼복승식 1-4-6번 현금방식(자율발매기) 구매방법 안내   유인창구에서 구매권 구입  (적중마권이 있는 경우 구매권  대신 적중마권으로 자율발매기  이용 가능)   구매하고자 하는 경주와   마번 등 상세내역을  ‘마권구매표’에 표기   자율발매기 투입구에 구매권  (혹은 적중마권)을 먼저 투입 후  ‘마권구매표’ 투입   화면에 표출된 구매내용  (마번, 승식, 금액 등) 확인   ● 표출된 내용이 맞으면 ‘구매 후   종료’ 누름 ● 표출된 내용이 맞지   않으면 ‘취소’를 누름 ● 표출된   내용이 맞고 마권을 추가로 구입하고  싶으면 ‘추가 구매’를 누름   발행되는 마권과 구매권  (잔액이 있는 경우)을 확인  (잔액이 있는 경우 잔액이  구매권으로 발행)  전자카드4.0 앱 설치   전자카드 회원가입(본인  명의 휴대폰으로만 가능)   본인 전자카드 계좌에  직접 입금(창구 입금) 또는  계좌이체(은행계좌 연계)   전자카드 로그인 후 베팅  (구매경주 선택, 승식,  마번, 금액 입력하고 바로  구매 클릭 → 내역 확인 후  ‘마권구매’ 클릭) 전자카드 앱 구매방법 안내 1 3 2')]"
      ]
     },
     "execution_count": 35,
     "metadata": {},
     "output_type": "execute_result"
    }
   ],
   "execution_count": 35
  },
  {
   "metadata": {
    "ExecuteTime": {
     "end_time": "2024-12-19T04:54:53.209860Z",
     "start_time": "2024-12-19T04:54:52.511347Z"
    }
   },
   "cell_type": "code",
   "source": [
    "from langchain.vectorstores import FAISS\n",
    "\n",
    "vector_store = FAISS.from_documents(pdf_documents, embeddings, ) #documents : Document"
   ],
   "id": "e9bee258c9617297",
   "outputs": [],
   "execution_count": 36
  },
  {
   "metadata": {
    "ExecuteTime": {
     "end_time": "2024-12-19T04:54:54.546390Z",
     "start_time": "2024-12-19T04:54:54.291195Z"
    }
   },
   "cell_type": "code",
   "source": [
    "results = vector_store.similarity_search(\"오토벳 \", k=1)\n",
    "print(len(results))"
   ],
   "id": "884274a9100f93a4",
   "outputs": [
    {
     "name": "stdout",
     "output_type": "stream",
     "text": [
      "1\n"
     ]
    }
   ],
   "execution_count": 37
  },
  {
   "metadata": {
    "ExecuteTime": {
     "end_time": "2024-12-19T04:55:04.214080Z",
     "start_time": "2024-12-19T04:55:04.210580Z"
    }
   },
   "cell_type": "code",
   "source": "results[0]",
   "id": "67c3cfb5015d9757",
   "outputs": [
    {
     "data": {
      "text/plain": [
       "Document(metadata={'source': './pdfs/race_guide.pdf', 'page': 0}, page_content='경주결과를 보는 방법(순위게시대)현재 운영 중인 베팅방법 7가지경마진행 이해하기 부산경남경마공원 대표마 배당률 화면 보는 방법 오토벳(Auto Bet) 경주가 끝난 후 결과를 알려주는 순위게시대 1등에서 5등까지 순위를 발표합니다. 착차(순위 간 차이)란 결승선을 통과할 때 선행말과 후속말 간의 거리차를 말합니다. 우승마의 예상이 어려우신 경우 Auto Bet 즉,  자동선택방식을 이용해 보세요. ● 선택원리: 구매시점 기준 단승식 저배당 5위 내 임의선택 ● 구매방법: 구매표 상 ‘마번’ 대신 ‘자동(A)’칸에 가입·신청 연승식·복연승식 연승식: 구매마권이 연승식 8번인 경우 ▶7.0배의 배당률 복연승식: 구매마권이 복연승식 4번, 8번일 경우 ▶9.4배의 배당률 코차 (약 0.1~21cm) 머리차 (약 22~40cm) 목차 (약  52~100cm) 1/2마신차 (약 1.2m) 3/4마신차 (약 1.8m) 1마신차 (약 2.4m) 대차 (10마신 이상) 고속카메라로  1,500 1  초까지 식별합니다. 1마신은 0.18초, 6마신은 1초로 환산됩니다. 초보자를 위한 경마가이드 착차 표시 기준 경주번호 경주거리 심의 중 ‘녹색’ 점등 착차:   결승선 먼저 도달한 말의 코끝과  다음에 도달한 말의 코끝 차이   코, 머리, 목, 그 이상은 마신 단위로 표시 4펄롱 (결승 전방 800m 부터 결승선까지 1등마 기록) 3펄롱 (결승 전방 600m 부터 결승선까지 1등마 기록) 확정 시 ‘적색’ 점등 순위 ‘1~5등’ 표시 비워두세요! ① 배당방식 선택 ②자동(A) 선택 ③구입하고 싶은 금액 부산경남 대표 가족공원, 말테마파크www.kra.co.kr  구매 상한선 준수,   건강한 여가생활의 시작입니다.46745 부산광역시 강서구 가락대로 929 단  승 식 1등 말을 적중시키는 베팅방식 연  승 식  1, 2, 3등 내에 들어올 말 중 1두 적중시키는 베팅  방식(출주마가 7두 이하인 경우 1, 2 등 내에 들어온 말만 적중) 복  승 식  1등 말과 2등 말을 순서에 상관없이 적중시키는  베팅방식 쌍  승 식 1등 말과 2등 말을 순서대로 적중시키는 베팅방식 복연승 식  1, 2, 3등 내에 들어올 말 중 2두를 순서에  상관없이 적중시키는 베팅방식 삼복승 식  1, 2, 3등  말 3두를 순서에 상관없이 적중시키는  베팅방식 삼쌍승 식  1, 2, 3등 말 3두를 순서대로 적중시키는    베팅방식(모바일 구매) ❶  시료채취 및 약물검사  출전마 시료(혈액) 채취 후   약물검사를 합니다.(출발 180분전) ❷  장안소 집합  출전마의 개체식별, 체중계량,   장안 확인 및 건강상태를 확인합니다.(출발 50분전) ❸  전검량  기수 체중과 말의 부담중량을 확인합니다.   (출발 50분전) ❹  예시장  말의 상태를 관찰하고 우승마를 선정할 수   있도록 선보입니다. (출발 30분전) ❺  마권구매  마권발매가 시작되면 승식 및 구매액을   결정한 후 마권을 구입합니다. ❻  배당률예시  30초 간격으로 게시되는 현재   배당률을 통해 환급금을 예측할 수 있습니다. ❼  경주로 출장  경주로에서 준비운동을 하여 기수와   마필의 컨디션을 확인합니다. (출발 약 12분전) ❽  마감 및 배당률확정  본장과 지사의 마권발매기가  기계적으로 동시에 마감하면서 배당률이 확정됩니다. ❾  출발  배당률 확정 후 출발위원이 출발신호를 하면   경주가 시작됩니다. ❿  경주감시 및 중계  경주 중 20대의 카메라가 경주의   이상 유무를 감시하며 중계합니다. ⓫ 결승점 통과 ⓬  순위판정  1~2분 후 착순판정 전용카메라로 촬영된   영상으로 도착지를 심의판정하여 순위, 도착차,   경주기록 등을 게시합니다. ⓭  후검량  3~4분 후 전검량과의 차이가 있는지를   확인합니다. ⓮  재결심의 결승선 통과 후 순위확정 전까지 경주 중   규칙위반 여부를 심의하여 실격 등을 결정합니다. ⓯  순위확정  통상 4~5분 후 순위가 확정됩니다. ⓰  환급금 지급  순위확정 후 모든 발매창구에서   환급금을 지급합니다. 트리플나인 ★ 그랑프리(2018) 우승마 ★ 대통령배(2015, 2016, 2017, 2018)  4회 우승마 ★ 오너스컵(2016) 우승마 위너스맨 ★ 그랑프리(2022,2023) 2회 우승마 ★ 대통령배(2023) 우승마 ★ 코리아컵(2022) 우승마 파워블레이드 ★ 그랑프리(2017) 우승마 ★ 코리안더비(2016) 우승마 ★ 농림축산식품부장관배(2016) 우승마 1 3 2 ')"
      ]
     },
     "execution_count": 38,
     "metadata": {},
     "output_type": "execute_result"
    }
   ],
   "execution_count": 38
  },
  {
   "metadata": {
    "ExecuteTime": {
     "end_time": "2024-12-19T04:55:53.084161Z",
     "start_time": "2024-12-19T04:55:53.080437Z"
    }
   },
   "cell_type": "code",
   "source": [
    "retriever = vector_store.as_retriever()\n",
    "retriever"
   ],
   "id": "204b0da5c2b456e7",
   "outputs": [
    {
     "data": {
      "text/plain": [
       "VectorStoreRetriever(tags=['FAISS', 'OpenAIEmbeddings'], vectorstore=<langchain_community.vectorstores.faiss.FAISS object at 0x0000016022D40BC0>, search_kwargs={})"
      ]
     },
     "execution_count": 40,
     "metadata": {},
     "output_type": "execute_result"
    }
   ],
   "execution_count": 40
  },
  {
   "metadata": {
    "ExecuteTime": {
     "end_time": "2024-12-19T04:57:30.152974Z",
     "start_time": "2024-12-19T04:57:26.818347Z"
    }
   },
   "cell_type": "code",
   "source": [
    "# 벡터스토어 검색 및 LLM 질의\n",
    "\n",
    "from langchain_openai import ChatOpenAI\n",
    "from langchain.chains import RetrievalQA\n",
    "model = ChatOpenAI(\n",
    "    model=\"gpt-4o\",\n",
    "    temperature=0.3,\n",
    ")\n",
    "\n",
    "#질의 객체\n",
    "rtvr_qa=RetrievalQA.from_chain_type(\n",
    "    llm=model,\n",
    "    retriever=retriever,\n",
    "    chain_type = 'stuff' #검색된 내용을 하나의 텍스트로 생성해서 LLM에 전달\n",
    ")\n",
    "\n",
    "#llm 질의\n",
    "response = rtvr_qa.invoke('오토벳 사용법을 단계적으로 설명해줘')\n",
    "print(response['result'])"
   ],
   "id": "ebea73a1adce709",
   "outputs": [
    {
     "name": "stdout",
     "output_type": "stream",
     "text": [
      "오토벳(Auto Bet) 사용법은 다음과 같습니다:\n",
      "\n",
      "1. **구매시점 기준 단승식 저배당 5위 내 임의선택**: 오토벳은 단승식에서 저배당 5위 내의 말을 임의로 선택하는 방식입니다.\n",
      "\n",
      "2. **구매표 작성**: 구매표 상의 ‘마번’ 대신 ‘자동(A)’ 칸에 가입 또는 신청합니다.\n",
      "\n",
      "3. **구매 진행**: 선택된 말로 자동으로 베팅이 진행됩니다.\n",
      "\n",
      "오토벳은 우승마를 예상하기 어려운 경우에 유용하게 사용할 수 있는 자동선택방식입니다.\n"
     ]
    }
   ],
   "execution_count": 47
  },
  {
   "metadata": {
    "ExecuteTime": {
     "end_time": "2024-12-19T04:58:00.258246Z",
     "start_time": "2024-12-19T04:57:58.771754Z"
    }
   },
   "cell_type": "code",
   "source": [
    "response = rtvr_qa.invoke('마번이 뭐야?')\n",
    "print(response['result'])"
   ],
   "id": "cb1d9d0219962535",
   "outputs": [
    {
     "name": "stdout",
     "output_type": "stream",
     "text": [
      "\"마번\"은 경마에서 각 말에게 부여된 고유 번호를 의미합니다. 경주에 출전하는 말들을 식별하기 위해 사용되며, 베팅할 때 특정 말을 선택할 때도 사용됩니다.\n"
     ]
    }
   ],
   "execution_count": 48
  },
  {
   "metadata": {},
   "cell_type": "markdown",
   "source": "## 카테고리를 나누어서 벡터스토어 검색 및 LLM 질의를 진행",
   "id": "4cecfb4d2b364e59"
  },
  {
   "metadata": {
    "ExecuteTime": {
     "end_time": "2024-12-19T05:11:55.256830Z",
     "start_time": "2024-12-19T05:11:54.379811Z"
    }
   },
   "cell_type": "code",
   "source": [
    "# 1.사용자 쿼리를 카테고리로 구분\n",
    "from langchain_openai import ChatOpenAI\n",
    "\n",
    "model = ChatOpenAI(\n",
    "    model=\"gpt-4o\",\n",
    "    temperature=0.3,\n",
    ")\n",
    "model.invoke(\"\"\"\n",
    "다음 사용자 질문을 카테고리로 구분해주세요.\n",
    "카테고리 : 경마방법, 부산경기스케쥴, 서울경기스케쥴, 우승마기록\n",
    "질문: 오토벳 사용법을 단계적으로 설명해줘\n",
    "\"\"\").content"
   ],
   "id": "2041e7d803da5867",
   "outputs": [
    {
     "data": {
      "text/plain": [
       "'카테고리: 경마방법'"
      ]
     },
     "execution_count": 52,
     "metadata": {},
     "output_type": "execute_result"
    }
   ],
   "execution_count": 52
  },
  {
   "metadata": {
    "ExecuteTime": {
     "end_time": "2024-12-19T05:12:28.129449Z",
     "start_time": "2024-12-19T05:12:11.745117Z"
    }
   },
   "cell_type": "code",
   "source": [
    "# 2. 미리 준비된 카테고리 벡터스토어의 리트리버 준비\n",
    "# race_guide용 벡터스토어 생성\n",
    "loader = PyPDFLoader(pdf_file)\n",
    "documents = loader.load()\n",
    "for doc in documents:\n",
    "    doc.page_content = doc.page_content.replace('\\n', ' ').replace('\\t', ' ')\n",
    "\n",
    "# 경마방법인 경우, vs_rce_guide 사용\n",
    "vs_race_guide = FAISS.from_documents(documents, embeddings)\n",
    "vs_race_guide_retriever = vs_race_guide.as_retriever()\n"
   ],
   "id": "3b32a7f1f33f1e20",
   "outputs": [],
   "execution_count": null
  },
  {
   "metadata": {
    "ExecuteTime": {
     "end_time": "2024-12-19T05:16:55.562874Z",
     "start_time": "2024-12-19T05:16:53.052329Z"
    }
   },
   "cell_type": "code",
   "source": [
    "# 3. 카테고리별 리트리버를 가지고 벡터스토어/LLM에 질의 객체\n",
    "def rag_by_category(query, retriever):\n",
    "    \n",
    "    rtvr_qa = RetrievalQA.from_chain_type(\n",
    "        llm=model,\n",
    "        retriever=retriever,\n",
    "        chain_type = 'stuff' #검색된 내용을 하나의 텍스트로 생성해서 LLM에 전달\n",
    "    )\n",
    "    \n",
    "    #llm 질의\n",
    "    response = rtvr_qa.invoke(query)\n",
    "    return response['result']\n",
    "\n",
    "print(rag_by_category('오토벳 사용법을 단계적으로 설명해줘', vs_race_guide_retriever))"
   ],
   "id": "cbfff348078bbb70",
   "outputs": [
    {
     "name": "stdout",
     "output_type": "stream",
     "text": [
      "오토벳(Auto Bet) 사용법은 다음과 같습니다:\n",
      "\n",
      "1. **선택원리**: 오토벳은 구매 시점 기준으로 단승식 저배당 5위 내의 말을 임의로 선택합니다.\n",
      "\n",
      "2. **구매방법**:\n",
      "   - 구매표에서 '마번' 대신 '자동(A)' 칸에 가입 및 신청합니다.\n",
      "\n",
      "이 과정을 통해 오토벳을 사용할 수 있습니다. 추가적인 세부사항이나 설정은 경마장이나 관련 웹사이트에서 확인할 수 있습니다.\n"
     ]
    }
   ],
   "execution_count": 55
  }
 ],
 "metadata": {
  "kernelspec": {
   "display_name": "Python 3",
   "language": "python",
   "name": "python3"
  },
  "language_info": {
   "codemirror_mode": {
    "name": "ipython",
    "version": 2
   },
   "file_extension": ".py",
   "mimetype": "text/x-python",
   "name": "python",
   "nbconvert_exporter": "python",
   "pygments_lexer": "ipython2",
   "version": "2.7.6"
  }
 },
 "nbformat": 4,
 "nbformat_minor": 5
}
