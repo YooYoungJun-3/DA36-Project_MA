{
 "cells": [
  {
   "cell_type": "code",
   "id": "initial_id",
   "metadata": {
    "collapsed": true,
    "ExecuteTime": {
     "end_time": "2024-12-19T03:35:33.235237Z",
     "start_time": "2024-12-19T03:35:33.208662Z"
    }
   },
   "source": [
    "from dotenv import load_dotenv\n",
    "load_dotenv()"
   ],
   "outputs": [
    {
     "data": {
      "text/plain": [
       "True"
      ]
     },
     "execution_count": 1,
     "metadata": {},
     "output_type": "execute_result"
    }
   ],
   "execution_count": 1
  },
  {
   "metadata": {
    "ExecuteTime": {
     "end_time": "2024-12-19T01:30:26.909314Z",
     "start_time": "2024-12-19T01:30:26.904316Z"
    }
   },
   "cell_type": "code",
   "source": [
    "from langchain_core.prompts import ChatPromptTemplate\n",
    "from langchain_core.messages import HumanMessage\n",
    "prompt_template = ChatPromptTemplate([\n",
    "    ('system','''\n",
    "    이곳이 처음이거나 자주 오는 이들에게도 모르는 것이 있다면 언제든 대답해주는 게 네 역할이지.\n",
    "\n",
    "\n",
    "\n",
    "마사회\n",
    "You are a Virtual Assistant AI designed to serve as an information desk guide for the Korea Racing Authority (KRA). Your primary role is to provide clear, friendly, and detailed answers to visitors’ questions. Follow these steps when assisting users:\n",
    "\n",
    "Step 1: Document Analysis\n",
    "\n",
    "Review the uploaded documents or reference materials provided to identify relevant information regarding the user’s question.\n",
    "\n",
    "Step 2: Database Search or Supplementary Research\n",
    "\n",
    "If the documents lack sufficient details, search through available internal databases or reference reliable sources to gather the required information.\n",
    "\n",
    "Step 3: Answer Formulation\n",
    "\n",
    "Combine the extracted data to craft a concise, accurate, and visitor-friendly response. Tailor your tone to be professional yet approachable.\n",
    "\n",
    "Step 4: Simplification and Clarity\n",
    "\n",
    "Ensure the information is easy to understand, avoiding technical jargon unless specifically requested by the user.\n",
    "\n",
    "Step 5: Summary and Organization\n",
    "\n",
    "Provide a brief summary of your answer and, where applicable, suggest any additional services or information that might enhance the visitor’s experience.\n",
    "\n",
    "Now, proceed to execute this task: “Provide answers to visitor inquiries based on available documents and additional resources.” Take a step-by-step approach to ensure the response is comprehensive and accurate.''' ),\n",
    "    \n",
    "    ('user', '{question}')\n",
    "])\n",
    "\n",
    "# 출력 파서 생성\n",
    "from langchain_core.output_parsers import StrOutputParser\n",
    "\n",
    "output_parser = StrOutputParser()"
   ],
   "id": "29375b321eb48648",
   "outputs": [],
   "execution_count": 17
  },
  {
   "metadata": {},
   "cell_type": "markdown",
   "source": "## pdf 파일 로드",
   "id": "a9bfbf350fce414"
  },
  {
   "metadata": {
    "ExecuteTime": {
     "end_time": "2024-12-19T03:27:12.289842Z",
     "start_time": "2024-12-19T03:25:51.470958Z"
    }
   },
   "cell_type": "code",
   "source": [
    "from langchain_openai import ChatOpenAI\n",
    "from langchain_core.messages import SystemMessage,HumanMessage,AIMessage\n",
    "from langchain_community.document_loaders import PyPDFLoader\n",
    "import os\n",
    "\n",
    "# 여러 PDF 파일 경로를 리스트로 생성\n",
    "pdf_folder = 'C:/Workspaces/project_ma/pdfs'\n",
    "pdf_files = [os.path.join(pdf_folder, file) for file in os.listdir(pdf_folder) if file.endswith('.pdf')]\n",
    "\n",
    "# 각 PDF 파일을 로드하여 문서로 처리\n",
    "pdf_documents = []\n",
    "for pdf_file in pdf_files:\n",
    "    loader = PyPDFLoader(pdf_file)\n",
    "    pdf_documents.extend(loader.load())  # 문서를 리스트에 추가\n",
    "\n",
    "print(f\"Loaded {len(pdf_documents)} documents.\")"
   ],
   "id": "4d6debc239fde5d3",
   "outputs": [
    {
     "name": "stdout",
     "output_type": "stream",
     "text": [
      "Loaded 203 documents.\n"
     ]
    }
   ],
   "execution_count": 38
  },
  {
   "metadata": {
    "ExecuteTime": {
     "end_time": "2024-12-19T03:36:56.494957Z",
     "start_time": "2024-12-19T03:36:50.522311Z"
    }
   },
   "cell_type": "code",
   "source": [
    "from langchain_community.document_loaders import PyPDFLoader\n",
    "\n",
    "# 각 PDF 파일을 로드하여 문서로 처리\n",
    "pdf_documents = []\n",
    "for pdf_file in ['C:\\\\Workspaces\\\\project_ma\\\\pdfs\\\\race_guide.pdf']:\n",
    "    loader = PyPDFLoader(pdf_file)\n",
    "    pdf_documents.extend(loader.load())\n",
    "    \n",
    "pdf_documents"
   ],
   "id": "2a7263e160916099",
   "outputs": [
    {
     "data": {
      "text/plain": [
       "[Document(metadata={'source': 'C:\\\\Workspaces\\\\project_ma\\\\pdfs\\\\race_guide.pdf', 'page': 0}, page_content='경주결과를 보는 방법(순위게시대)현재 운영 중인 베팅방법 7가지경마진행 이해하기\\n부산경남경마공원 대표마\\n배당률 화면 보는 방법\\n오토벳(Auto Bet)\\n경주가 끝난 후 결과를 알려주는 순위게시대\\n1등에서 5등까지 순위를 발표합니다.\\n착차(순위 간 차이)란 결승선을 통과할 때 선행말과\\n후속말 간의 거리차를 말합니다.\\n우승마의 예상이 어려우신 경우 Auto Bet 즉, \\n자동선택방식을 이용해 보세요.\\n● 선택원리: 구매시점 기준 단승식 저배당 5위 내 임의선택\\n● 구매방법: 구매표 상 ‘마번’ 대신 ‘자동(A)’칸에 가입·신청\\n연승식·복연승식\\n연승식: 구매마권이 연승식 8번인 경우 ▶7.0배의 배당률\\n복연승식: 구매마권이 복연승식 4번, 8번일 경우 ▶9.4배의 배당률\\n코차 (약 0.1~21cm)\\n머리차 (약 22~40cm)\\n목차 (약  52~100cm)\\n1/2마신차 (약 1.2m)\\n3/4마신차 (약 1.8m)\\n1마신차 (약 2.4m)\\n대차 (10마신 이상)\\n고속카메라로  1,500\\n1\\n 초까지 식별합니다.\\n1마신은 0.18초, 6마신은 1초로 환산됩니다.\\n초보자를 위한\\n경마가이드\\n착차 표시 기준\\n경주번호 경주거리\\n심의 중 ‘녹색’ 점등\\n착차:   결승선 먼저 도달한 말의 코끝과\\n 다음에 도달한 말의 코끝 차이 \\n 코, 머리, 목, 그 이상은 마신 단위로 표시\\n4펄롱\\n(결승 전방 800m 부터 결승선까지 1등마 기록)\\n3펄롱\\n(결승 전방 600m 부터 결승선까지 1등마 기록)\\n확정 시 ‘적색’ 점등\\n순위 ‘1~5등’ 표시\\n비워두세요!\\n① 배당방식 선택\\n②자동(A) 선택\\n③구입하고 싶은 금액\\n부산경남 대표 가족공원, 말테마파크www.kra.co.kr\\n 구매 상한선 준수, \\n 건강한 여가생활의 시작입니다.46745 부산광역시 강서구 가락대로 929\\n단  승 식 1등 말을 적중시키는 베팅방식\\n연  승 식  1, 2, 3등 내에 들어올 말 중 1두 적중시키는 베팅 \\n방식(출주마가 7두 이하인 경우 1, 2 등 내에 들어온 말만 적중)\\n복  승 식  1등 말과 2등 말을 순서에 상관없이 적중시키는 \\n베팅방식\\n쌍  승 식 1등 말과 2등 말을 순서대로 적중시키는 베팅방식\\n복연승 식  1, 2, 3등 내에 들어올 말 중 2두를 순서에 \\n상관없이 적중시키는 베팅방식\\n삼복승 식  1, 2, 3등  말 3두를 순서에 상관없이 적중시키는 \\n베팅방식\\n삼쌍승 식  1, 2, 3등 말 3두를 순서대로 적중시키는 \\n  베팅방식(모바일 구매)\\n❶  시료채취 및 약물검사  출전마 시료(혈액) 채취 후 \\n 약물검사를 합니다.(출발 180분전)\\n❷\\t\\t장안소 집합  출전마의 개체식별, 체중계량, \\n 장안 확인 및 건강상태를 확인합니다.(출발 50분전)\\n❸\\t\\t전검량  기수 체중과 말의 부담중량을 확인합니다. \\n (출발 50분전)\\n❹\\t\\t예시장  말의 상태를 관찰하고 우승마를 선정할 수 \\n 있도록 선보입니다. (출발 30분전)\\n❺\\t\\t마권구매  마권발매가 시작되면 승식 및 구매액을 \\n 결정한 후 마권을 구입합니다.\\n❻\\t\\t배당률예시  30초 간격으로 게시되는 현재 \\n 배당률을 통해 환급금을 예측할 수 있습니다.\\n❼\\t\\t경주로 출장  경주로에서 준비운동을 하여 기수와 \\n 마필의 컨디션을 확인합니다. (출발 약 12분전)\\n❽\\t\\t마감 및 배당률확정  본장과 지사의 마권발매기가\\n 기계적으로 동시에 마감하면서 배당률이 확정됩니다.\\n❾\\t\\t출발  배당률 확정 후 출발위원이 출발신호를 하면 \\n 경주가 시작됩니다.\\n❿\\t\\t경주감시 및 중계  경주 중 20대의 카메라가 경주의 \\n 이상 유무를 감시하며 중계합니다.\\n⓫\\t결승점 통과\\n⓬\\t\\t순위판정  1~2분 후 착순판정 전용카메라로 촬영된 \\n 영상으로 도착지를 심의판정하여 순위, 도착차, \\n 경주기록 등을 게시합니다.\\n⓭\\t\\t후검량  3~4분 후 전검량과의 차이가 있는지를 \\n 확인합니다.\\n⓮\\t\\t재결심의 결승선 통과 후 순위확정 전까지 경주 중 \\n 규칙위반 여부를 심의하여 실격 등을 결정합니다.\\n⓯\\t\\t순위확정  통상 4~5분 후 순위가 확정됩니다.\\n⓰\\t\\t환급금 지급  순위확정 후 모든 발매창구에서 \\n 환급금을 지급합니다.\\n트리플나인\\n★ 그랑프리(2018) 우승마\\n★ 대통령배(2015, 2016, 2017, 2018)\\n 4회 우승마\\n★ 오너스컵(2016) 우승마\\n위너스맨\\n★ 그랑프리(2022,2023) 2회 우승마\\n★ 대통령배(2023) 우승마\\n★ 코리아컵(2022) 우승마\\n파워블레이드\\n★ 그랑프리(2017) 우승마\\n★ 코리안더비(2016) 우승마\\n★ 농림축산식품부장관배(2016) 우승마\\n1\\n3\\n2\\n'),\n",
       " Document(metadata={'source': 'C:\\\\Workspaces\\\\project_ma\\\\pdfs\\\\race_guide.pdf', 'page': 1}, page_content='경마는 승식에 따라 다양하게 즐길 수 있습니다.\\n경마초보자는 적중률과 환급률이 높은 단승식이나\\n연승식을 즐기는 것이 바람직합니다.\\n※ 여러분이 구입하신 마권이 적중되면 배당률에 따라 환급받으실 수 있습니다.\\n마권 구매표 표기방법\\n경주번호 선택\\n(1경주)\\n승식선택\\n(단승식)\\n구입하고 싶은 금액\\n(2천원 구입)\\n하루 또는 이틀 후\\n경주 마권 예매 시\\n해당 경주일의 요일 표기\\n당일 마권구매 시는 미표기 렛츠런파크 부산경남 1경주 단승식 7번마에\\n2천원을 구입한 예시입니다.\\n렛츠런파크 선택\\n(서울, 부산경남, 제주)\\n선택하고 싶은 말\\n(7번말)\\n1등으로 도착 할 말의 1두를 적중시키는 방식\\n전자카드 전용승식(전자카드 센터 문의 및 홈페이지 참조)\\n1등과 2등으로 들어올 말 2두를 순서대로 적중시키는 방식\\n단승식\\n삼쌍승식\\n쌍승식\\n1~3등 안에 들어올 말 1두를 적중시키는 방식\\n연승식\\n1등, 2등 및 3등으로 들어올 말 3두를 순서에 상관없이 적중시키는 방식\\n1~3등 안에 들어올 말 2두를 순서에 상관없이 적중시키는 방식\\n1등과 2등으로 들어올 말 2두를 순서에 상관없이 적중시키는 방식\\n삼복승식\\n복연승식\\n복승식\\n부산경남경마공원\\n제 1경주\\n2천원 구입\\n단승식\\n7번\\n부산경남경마공원\\n제 1경주\\n2천원 구입\\n연승식\\n7번\\n부산경남경마공원\\n제 1경주\\n2천원 구입\\n복연승식\\n4-6번\\n부산경남경마공원\\n제 1경주\\n2천원 구입\\n복승식\\n3-5번\\n부산경남경마공원\\n제 1경주\\n2천원 구입\\n쌍승식\\n4(1등)-8(2등)번\\n부산경남경마공원\\n제 1경주\\n2천원 구입\\n삼복승식\\n1-4-6번\\n현금방식(자율발매기) 구매방법 안내\\n  유인창구에서 구매권 구입 \\n(적중마권이 있는 경우 구매권 \\n대신 적중마권으로 자율발매기 \\n이용 가능)\\n  구매하고자 하는 경주와 \\n 마번 등 상세내역을\\n ‘마권구매표’에 표기\\n  자율발매기 투입구에 구매권 \\n(혹은 적중마권)을 먼저 투입 후 \\n‘마권구매표’ 투입\\n  화면에 표출된 구매내용\\n (마번, 승식, 금액 등) 확인\\n  ● 표출된 내용이 맞으면 ‘구매 후 \\n 종료’ 누름 ● 표출된 내용이 맞지 \\n 않으면 ‘취소’를 누름 ● 표출된 \\n 내용이 맞고 마권을 추가로 구입하고\\n 싶으면 ‘추가 구매’를 누름\\n  발행되는 마권과 구매권 \\n(잔액이 있는 경우)을 확인 \\n(잔액이 있는 경우 잔액이 \\n구매권으로 발행)\\n 전자카드4.0 앱 설치\\n  전자카드 회원가입(본인 \\n명의 휴대폰으로만 가능)\\n  본인 전자카드 계좌에 \\n직접 입금(창구 입금) 또는 \\n계좌이체(은행계좌 연계)\\n  전자카드 로그인 후 베팅 \\n(구매경주 선택, 승식, \\n마번, 금액 입력하고 바로 \\n구매 클릭 → 내역 확인 후 \\n‘마권구매’ 클릭)\\n전자카드 앱 구매방법 안내\\n1\\n3\\n2')]"
      ]
     },
     "execution_count": 3,
     "metadata": {},
     "output_type": "execute_result"
    }
   ],
   "execution_count": 3
  },
  {
   "metadata": {
    "ExecuteTime": {
     "end_time": "2024-12-19T03:37:50.696342Z",
     "start_time": "2024-12-19T03:37:48.631963Z"
    }
   },
   "cell_type": "code",
   "source": [
    "from langchain_openai import OpenAIEmbeddings\n",
    "\n",
    "embeddings = OpenAIEmbeddings(model=\"text-embedding-3-small\")"
   ],
   "id": "91328d7c6195f038",
   "outputs": [],
   "execution_count": 4
  },
  {
   "metadata": {
    "ExecuteTime": {
     "end_time": "2024-12-19T03:38:24.978962Z",
     "start_time": "2024-12-19T03:38:24.127471Z"
    }
   },
   "cell_type": "code",
   "source": [
    "from langchain.vectorstores import FAISS\n",
    "\n",
    "vectors = FAISS.from_documents(pdf_documents, embeddings) #documents : Document\n",
    "vectors"
   ],
   "id": "d1e9bf16ab9eb0cc",
   "outputs": [
    {
     "data": {
      "text/plain": [
       "<langchain_community.vectorstores.faiss.FAISS at 0x18b18f39550>"
      ]
     },
     "execution_count": 5,
     "metadata": {},
     "output_type": "execute_result"
    }
   ],
   "execution_count": 5
  },
  {
   "metadata": {
    "ExecuteTime": {
     "end_time": "2024-12-19T03:40:32.916065Z",
     "start_time": "2024-12-19T03:40:32.526002Z"
    }
   },
   "cell_type": "code",
   "source": [
    "results = vectors.similarity_search(\"오토벳 \", k=1)\n",
    "print(len(results))\n",
    "for i, doc in enumerate(results):\n",
    "    print(i, doc)\n"
   ],
   "id": "8e0879892446b5c7",
   "outputs": [
    {
     "name": "stdout",
     "output_type": "stream",
     "text": [
      "1\n",
      "0 page_content='경주결과를 보는 방법(순위게시대)현재 운영 중인 베팅방법 7가지경마진행 이해하기\n",
      "부산경남경마공원 대표마\n",
      "배당률 화면 보는 방법\n",
      "오토벳(Auto Bet)\n",
      "경주가 끝난 후 결과를 알려주는 순위게시대\n",
      "1등에서 5등까지 순위를 발표합니다.\n",
      "착차(순위 간 차이)란 결승선을 통과할 때 선행말과\n",
      "후속말 간의 거리차를 말합니다.\n",
      "우승마의 예상이 어려우신 경우 Auto Bet 즉, \n",
      "자동선택방식을 이용해 보세요.\n",
      "● 선택원리: 구매시점 기준 단승식 저배당 5위 내 임의선택\n",
      "● 구매방법: 구매표 상 ‘마번’ 대신 ‘자동(A)’칸에 가입·신청\n",
      "연승식·복연승식\n",
      "연승식: 구매마권이 연승식 8번인 경우 ▶7.0배의 배당률\n",
      "복연승식: 구매마권이 복연승식 4번, 8번일 경우 ▶9.4배의 배당률\n",
      "코차 (약 0.1~21cm)\n",
      "머리차 (약 22~40cm)\n",
      "목차 (약  52~100cm)\n",
      "1/2마신차 (약 1.2m)\n",
      "3/4마신차 (약 1.8m)\n",
      "1마신차 (약 2.4m)\n",
      "대차 (10마신 이상)\n",
      "고속카메라로  1,500\n",
      "1\n",
      " 초까지 식별합니다.\n",
      "1마신은 0.18초, 6마신은 1초로 환산됩니다.\n",
      "초보자를 위한\n",
      "경마가이드\n",
      "착차 표시 기준\n",
      "경주번호 경주거리\n",
      "심의 중 ‘녹색’ 점등\n",
      "착차:   결승선 먼저 도달한 말의 코끝과\n",
      " 다음에 도달한 말의 코끝 차이 \n",
      " 코, 머리, 목, 그 이상은 마신 단위로 표시\n",
      "4펄롱\n",
      "(결승 전방 800m 부터 결승선까지 1등마 기록)\n",
      "3펄롱\n",
      "(결승 전방 600m 부터 결승선까지 1등마 기록)\n",
      "확정 시 ‘적색’ 점등\n",
      "순위 ‘1~5등’ 표시\n",
      "비워두세요!\n",
      "① 배당방식 선택\n",
      "②자동(A) 선택\n",
      "③구입하고 싶은 금액\n",
      "부산경남 대표 가족공원, 말테마파크www.kra.co.kr\n",
      " 구매 상한선 준수, \n",
      " 건강한 여가생활의 시작입니다.46745 부산광역시 강서구 가락대로 929\n",
      "단  승 식 1등 말을 적중시키는 베팅방식\n",
      "연  승 식  1, 2, 3등 내에 들어올 말 중 1두 적중시키는 베팅 \n",
      "방식(출주마가 7두 이하인 경우 1, 2 등 내에 들어온 말만 적중)\n",
      "복  승 식  1등 말과 2등 말을 순서에 상관없이 적중시키는 \n",
      "베팅방식\n",
      "쌍  승 식 1등 말과 2등 말을 순서대로 적중시키는 베팅방식\n",
      "복연승 식  1, 2, 3등 내에 들어올 말 중 2두를 순서에 \n",
      "상관없이 적중시키는 베팅방식\n",
      "삼복승 식  1, 2, 3등  말 3두를 순서에 상관없이 적중시키는 \n",
      "베팅방식\n",
      "삼쌍승 식  1, 2, 3등 말 3두를 순서대로 적중시키는 \n",
      "  베팅방식(모바일 구매)\n",
      "❶  시료채취 및 약물검사  출전마 시료(혈액) 채취 후 \n",
      " 약물검사를 합니다.(출발 180분전)\n",
      "❷\t\t장안소 집합  출전마의 개체식별, 체중계량, \n",
      " 장안 확인 및 건강상태를 확인합니다.(출발 50분전)\n",
      "❸\t\t전검량  기수 체중과 말의 부담중량을 확인합니다. \n",
      " (출발 50분전)\n",
      "❹\t\t예시장  말의 상태를 관찰하고 우승마를 선정할 수 \n",
      " 있도록 선보입니다. (출발 30분전)\n",
      "❺\t\t마권구매  마권발매가 시작되면 승식 및 구매액을 \n",
      " 결정한 후 마권을 구입합니다.\n",
      "❻\t\t배당률예시  30초 간격으로 게시되는 현재 \n",
      " 배당률을 통해 환급금을 예측할 수 있습니다.\n",
      "❼\t\t경주로 출장  경주로에서 준비운동을 하여 기수와 \n",
      " 마필의 컨디션을 확인합니다. (출발 약 12분전)\n",
      "❽\t\t마감 및 배당률확정  본장과 지사의 마권발매기가\n",
      " 기계적으로 동시에 마감하면서 배당률이 확정됩니다.\n",
      "❾\t\t출발  배당률 확정 후 출발위원이 출발신호를 하면 \n",
      " 경주가 시작됩니다.\n",
      "❿\t\t경주감시 및 중계  경주 중 20대의 카메라가 경주의 \n",
      " 이상 유무를 감시하며 중계합니다.\n",
      "⓫\t결승점 통과\n",
      "⓬\t\t순위판정  1~2분 후 착순판정 전용카메라로 촬영된 \n",
      " 영상으로 도착지를 심의판정하여 순위, 도착차, \n",
      " 경주기록 등을 게시합니다.\n",
      "⓭\t\t후검량  3~4분 후 전검량과의 차이가 있는지를 \n",
      " 확인합니다.\n",
      "⓮\t\t재결심의 결승선 통과 후 순위확정 전까지 경주 중 \n",
      " 규칙위반 여부를 심의하여 실격 등을 결정합니다.\n",
      "⓯\t\t순위확정  통상 4~5분 후 순위가 확정됩니다.\n",
      "⓰\t\t환급금 지급  순위확정 후 모든 발매창구에서 \n",
      " 환급금을 지급합니다.\n",
      "트리플나인\n",
      "★ 그랑프리(2018) 우승마\n",
      "★ 대통령배(2015, 2016, 2017, 2018)\n",
      " 4회 우승마\n",
      "★ 오너스컵(2016) 우승마\n",
      "위너스맨\n",
      "★ 그랑프리(2022,2023) 2회 우승마\n",
      "★ 대통령배(2023) 우승마\n",
      "★ 코리아컵(2022) 우승마\n",
      "파워블레이드\n",
      "★ 그랑프리(2017) 우승마\n",
      "★ 코리안더비(2016) 우승마\n",
      "★ 농림축산식품부장관배(2016) 우승마\n",
      "1\n",
      "3\n",
      "2\n",
      "' metadata={'source': 'C:\\\\Workspaces\\\\project_ma\\\\pdfs\\\\race_guide.pdf', 'page': 0}\n"
     ]
    }
   ],
   "execution_count": 11
  },
  {
   "metadata": {},
   "cell_type": "markdown",
   "source": "## CSV 파일 로드",
   "id": "b77b5492d9f73f47"
  },
  {
   "metadata": {},
   "cell_type": "markdown",
   "source": [
    "import os\n",
    "from langchain_community.document_loaders import CSVLoader\n",
    "\n",
    "# CSV 저장된 폴더 경로 지정\n",
    "csv_folder = 'C:/Workspaces/dl_nlp/Choisoovin/10_langchain/04_ai_Sommelier_rag/csvs'\n",
    "\n",
    "# 폴더 내 모든 CSV 파일 경로 리스트 생성\n",
    "csv_files = [os.path.join(csv_folder, file) for file in os.listdir(csv_folder) if file.endswith('.csv')]\n",
    "\n",
    "# 폴더 내 모든 CSV 파일을 Document 객체로 로드\n",
    "csv_documents = []\n",
    "for csv_file in csv_files:\n",
    "    loader = CSVLoader(file_path=csv_file)  \n",
    "    csv_documents.extend(loader.load())    \n"
   ],
   "id": "967b4e69213bd1bf"
  },
  {
   "metadata": {},
   "cell_type": "markdown",
   "source": "## web 방식",
   "id": "36e9d63056bcc62"
  },
  {
   "metadata": {},
   "cell_type": "markdown",
   "source": [
    "from langchain.document_loaders import WebBaseLoader\n",
    "\n",
    "# 조회하고 싶은 URL들의 리스트\n",
    "urls = [\n",
    "    \"http://www.okrace.co.kr/okrace_guide/race_guide1.php\",\n",
    "    \"http://www.okrace.co.kr/okrace_guide/race_guide2.php\",\n",
    "    \"http://www.okrace.co.kr/okrace_guide/race_guide9.php\"\n",
    "]\n",
    "\n",
    "# WebBaseLoader에 리스트 전달\n",
    "loader = WebBaseLoader(urls)\n",
    "\n",
    "# 로드된 문서 가져오기\n",
    "web_documents = loader.load()\n",
    "\n",
    "# 출력 확인\n",
    "len(web_documents)"
   ],
   "id": "56fa7fc69bf7fbf4"
  },
  {
   "metadata": {},
   "cell_type": "markdown",
   "source": "web_documents[1]",
   "id": "687f83627c19c0e"
  },
  {
   "metadata": {},
   "cell_type": "markdown",
   "source": "## 데이터 병합",
   "id": "4fb06c4f076d3931"
  },
  {
   "metadata": {
    "ExecuteTime": {
     "end_time": "2024-12-19T03:41:50.005530Z",
     "start_time": "2024-12-19T03:41:49.051031Z"
    }
   },
   "cell_type": "code",
   "source": [
    "from langchain_openai import OpenAIEmbeddings\n",
    "\n",
    "\n",
    "embeddings = OpenAIEmbeddings(model=\"text-embedding-3-small\")\n",
    "docs = [document.page_content for document in pdf_documents]\n",
    "\n",
    "all_documents = pdf_documents #+ web_documents"
   ],
   "id": "2809e4a68ef0a62f",
   "outputs": [],
   "execution_count": 13
  },
  {
   "metadata": {
    "ExecuteTime": {
     "end_time": "2024-12-19T03:41:53.178216Z",
     "start_time": "2024-12-19T03:41:53.169442Z"
    }
   },
   "cell_type": "code",
   "source": "all_documents[19:21]",
   "id": "ac43b2a83095e900",
   "outputs": [
    {
     "data": {
      "text/plain": [
       "[]"
      ]
     },
     "execution_count": 14,
     "metadata": {},
     "output_type": "execute_result"
    }
   ],
   "execution_count": 14
  },
  {
   "metadata": {
    "ExecuteTime": {
     "end_time": "2024-12-19T03:23:03.551539Z",
     "start_time": "2024-12-19T03:23:03.541543Z"
    }
   },
   "cell_type": "code",
   "source": [
    "for doc in all_documents[19:21]:\n",
    "    print(doc.page_content)"
   ],
   "id": "e0338c0feaf38f93",
   "outputs": [
    {
     "name": "stdout",
     "output_type": "stream",
     "text": [
      "경주결과를 보는 방법(순위게시대)현재 운영 중인 베팅방법 7가지경마진행 이해하기\n",
      "부산경남경마공원 대표마\n",
      "배당률 화면 보는 방법\n",
      "오토벳(Auto Bet)\n",
      "경주가 끝난 후 결과를 알려주는 순위게시대\n",
      "1등에서 5등까지 순위를 발표합니다.\n",
      "착차(순위 간 차이)란 결승선을 통과할 때 선행말과\n",
      "후속말 간의 거리차를 말합니다.\n",
      "우승마의 예상이 어려우신 경우 Auto Bet 즉, \n",
      "자동선택방식을 이용해 보세요.\n",
      "● 선택원리: 구매시점 기준 단승식 저배당 5위 내 임의선택\n",
      "● 구매방법: 구매표 상 ‘마번’ 대신 ‘자동(A)’칸에 가입·신청\n",
      "연승식·복연승식\n",
      "연승식: 구매마권이 연승식 8번인 경우 ▶7.0배의 배당률\n",
      "복연승식: 구매마권이 복연승식 4번, 8번일 경우 ▶9.4배의 배당률\n",
      "코차 (약 0.1~21cm)\n",
      "머리차 (약 22~40cm)\n",
      "목차 (약  52~100cm)\n",
      "1/2마신차 (약 1.2m)\n",
      "3/4마신차 (약 1.8m)\n",
      "1마신차 (약 2.4m)\n",
      "대차 (10마신 이상)\n",
      "고속카메라로  1,500\n",
      "1\n",
      " 초까지 식별합니다.\n",
      "1마신은 0.18초, 6마신은 1초로 환산됩니다.\n",
      "초보자를 위한\n",
      "경마가이드\n",
      "착차 표시 기준\n",
      "경주번호 경주거리\n",
      "심의 중 ‘녹색’ 점등\n",
      "착차:   결승선 먼저 도달한 말의 코끝과\n",
      " 다음에 도달한 말의 코끝 차이 \n",
      " 코, 머리, 목, 그 이상은 마신 단위로 표시\n",
      "4펄롱\n",
      "(결승 전방 800m 부터 결승선까지 1등마 기록)\n",
      "3펄롱\n",
      "(결승 전방 600m 부터 결승선까지 1등마 기록)\n",
      "확정 시 ‘적색’ 점등\n",
      "순위 ‘1~5등’ 표시\n",
      "비워두세요!\n",
      "① 배당방식 선택\n",
      "②자동(A) 선택\n",
      "③구입하고 싶은 금액\n",
      "부산경남 대표 가족공원, 말테마파크www.kra.co.kr\n",
      " 구매 상한선 준수, \n",
      " 건강한 여가생활의 시작입니다.46745 부산광역시 강서구 가락대로 929\n",
      "단  승 식 1등 말을 적중시키는 베팅방식\n",
      "연  승 식  1, 2, 3등 내에 들어올 말 중 1두 적중시키는 베팅 \n",
      "방식(출주마가 7두 이하인 경우 1, 2 등 내에 들어온 말만 적중)\n",
      "복  승 식  1등 말과 2등 말을 순서에 상관없이 적중시키는 \n",
      "베팅방식\n",
      "쌍  승 식 1등 말과 2등 말을 순서대로 적중시키는 베팅방식\n",
      "복연승 식  1, 2, 3등 내에 들어올 말 중 2두를 순서에 \n",
      "상관없이 적중시키는 베팅방식\n",
      "삼복승 식  1, 2, 3등  말 3두를 순서에 상관없이 적중시키는 \n",
      "베팅방식\n",
      "삼쌍승 식  1, 2, 3등 말 3두를 순서대로 적중시키는 \n",
      "  베팅방식(모바일 구매)\n",
      "❶  시료채취 및 약물검사  출전마 시료(혈액) 채취 후 \n",
      " 약물검사를 합니다.(출발 180분전)\n",
      "❷\t\t장안소 집합  출전마의 개체식별, 체중계량, \n",
      " 장안 확인 및 건강상태를 확인합니다.(출발 50분전)\n",
      "❸\t\t전검량  기수 체중과 말의 부담중량을 확인합니다. \n",
      " (출발 50분전)\n",
      "❹\t\t예시장  말의 상태를 관찰하고 우승마를 선정할 수 \n",
      " 있도록 선보입니다. (출발 30분전)\n",
      "❺\t\t마권구매  마권발매가 시작되면 승식 및 구매액을 \n",
      " 결정한 후 마권을 구입합니다.\n",
      "❻\t\t배당률예시  30초 간격으로 게시되는 현재 \n",
      " 배당률을 통해 환급금을 예측할 수 있습니다.\n",
      "❼\t\t경주로 출장  경주로에서 준비운동을 하여 기수와 \n",
      " 마필의 컨디션을 확인합니다. (출발 약 12분전)\n",
      "❽\t\t마감 및 배당률확정  본장과 지사의 마권발매기가\n",
      " 기계적으로 동시에 마감하면서 배당률이 확정됩니다.\n",
      "❾\t\t출발  배당률 확정 후 출발위원이 출발신호를 하면 \n",
      " 경주가 시작됩니다.\n",
      "❿\t\t경주감시 및 중계  경주 중 20대의 카메라가 경주의 \n",
      " 이상 유무를 감시하며 중계합니다.\n",
      "⓫\t결승점 통과\n",
      "⓬\t\t순위판정  1~2분 후 착순판정 전용카메라로 촬영된 \n",
      " 영상으로 도착지를 심의판정하여 순위, 도착차, \n",
      " 경주기록 등을 게시합니다.\n",
      "⓭\t\t후검량  3~4분 후 전검량과의 차이가 있는지를 \n",
      " 확인합니다.\n",
      "⓮\t\t재결심의 결승선 통과 후 순위확정 전까지 경주 중 \n",
      " 규칙위반 여부를 심의하여 실격 등을 결정합니다.\n",
      "⓯\t\t순위확정  통상 4~5분 후 순위가 확정됩니다.\n",
      "⓰\t\t환급금 지급  순위확정 후 모든 발매창구에서 \n",
      " 환급금을 지급합니다.\n",
      "트리플나인\n",
      "★ 그랑프리(2018) 우승마\n",
      "★ 대통령배(2015, 2016, 2017, 2018)\n",
      " 4회 우승마\n",
      "★ 오너스컵(2016) 우승마\n",
      "위너스맨\n",
      "★ 그랑프리(2022,2023) 2회 우승마\n",
      "★ 대통령배(2023) 우승마\n",
      "★ 코리아컵(2022) 우승마\n",
      "파워블레이드\n",
      "★ 그랑프리(2017) 우승마\n",
      "★ 코리안더비(2016) 우승마\n",
      "★ 농림축산식품부장관배(2016) 우승마\n",
      "1\n",
      "3\n",
      "2\n",
      "\n",
      "경마는 승식에 따라 다양하게 즐길 수 있습니다.\n",
      "경마초보자는 적중률과 환급률이 높은 단승식이나\n",
      "연승식을 즐기는 것이 바람직합니다.\n",
      "※ 여러분이 구입하신 마권이 적중되면 배당률에 따라 환급받으실 수 있습니다.\n",
      "마권 구매표 표기방법\n",
      "경주번호 선택\n",
      "(1경주)\n",
      "승식선택\n",
      "(단승식)\n",
      "구입하고 싶은 금액\n",
      "(2천원 구입)\n",
      "하루 또는 이틀 후\n",
      "경주 마권 예매 시\n",
      "해당 경주일의 요일 표기\n",
      "당일 마권구매 시는 미표기 렛츠런파크 부산경남 1경주 단승식 7번마에\n",
      "2천원을 구입한 예시입니다.\n",
      "렛츠런파크 선택\n",
      "(서울, 부산경남, 제주)\n",
      "선택하고 싶은 말\n",
      "(7번말)\n",
      "1등으로 도착 할 말의 1두를 적중시키는 방식\n",
      "전자카드 전용승식(전자카드 센터 문의 및 홈페이지 참조)\n",
      "1등과 2등으로 들어올 말 2두를 순서대로 적중시키는 방식\n",
      "단승식\n",
      "삼쌍승식\n",
      "쌍승식\n",
      "1~3등 안에 들어올 말 1두를 적중시키는 방식\n",
      "연승식\n",
      "1등, 2등 및 3등으로 들어올 말 3두를 순서에 상관없이 적중시키는 방식\n",
      "1~3등 안에 들어올 말 2두를 순서에 상관없이 적중시키는 방식\n",
      "1등과 2등으로 들어올 말 2두를 순서에 상관없이 적중시키는 방식\n",
      "삼복승식\n",
      "복연승식\n",
      "복승식\n",
      "부산경남경마공원\n",
      "제 1경주\n",
      "2천원 구입\n",
      "단승식\n",
      "7번\n",
      "부산경남경마공원\n",
      "제 1경주\n",
      "2천원 구입\n",
      "연승식\n",
      "7번\n",
      "부산경남경마공원\n",
      "제 1경주\n",
      "2천원 구입\n",
      "복연승식\n",
      "4-6번\n",
      "부산경남경마공원\n",
      "제 1경주\n",
      "2천원 구입\n",
      "복승식\n",
      "3-5번\n",
      "부산경남경마공원\n",
      "제 1경주\n",
      "2천원 구입\n",
      "쌍승식\n",
      "4(1등)-8(2등)번\n",
      "부산경남경마공원\n",
      "제 1경주\n",
      "2천원 구입\n",
      "삼복승식\n",
      "1-4-6번\n",
      "현금방식(자율발매기) 구매방법 안내\n",
      "  유인창구에서 구매권 구입 \n",
      "(적중마권이 있는 경우 구매권 \n",
      "대신 적중마권으로 자율발매기 \n",
      "이용 가능)\n",
      "  구매하고자 하는 경주와 \n",
      " 마번 등 상세내역을\n",
      " ‘마권구매표’에 표기\n",
      "  자율발매기 투입구에 구매권 \n",
      "(혹은 적중마권)을 먼저 투입 후 \n",
      "‘마권구매표’ 투입\n",
      "  화면에 표출된 구매내용\n",
      " (마번, 승식, 금액 등) 확인\n",
      "  ● 표출된 내용이 맞으면 ‘구매 후 \n",
      " 종료’ 누름 ● 표출된 내용이 맞지 \n",
      " 않으면 ‘취소’를 누름 ● 표출된 \n",
      " 내용이 맞고 마권을 추가로 구입하고\n",
      " 싶으면 ‘추가 구매’를 누름\n",
      "  발행되는 마권과 구매권 \n",
      "(잔액이 있는 경우)을 확인 \n",
      "(잔액이 있는 경우 잔액이 \n",
      "구매권으로 발행)\n",
      " 전자카드4.0 앱 설치\n",
      "  전자카드 회원가입(본인 \n",
      "명의 휴대폰으로만 가능)\n",
      "  본인 전자카드 계좌에 \n",
      "직접 입금(창구 입금) 또는 \n",
      "계좌이체(은행계좌 연계)\n",
      "  전자카드 로그인 후 베팅 \n",
      "(구매경주 선택, 승식, \n",
      "마번, 금액 입력하고 바로 \n",
      "구매 클릭 → 내역 확인 후 \n",
      "‘마권구매’ 클릭)\n",
      "전자카드 앱 구매방법 안내\n",
      "1\n",
      "3\n",
      "2\n"
     ]
    }
   ],
   "execution_count": 33
  },
  {
   "metadata": {},
   "cell_type": "markdown",
   "source": "## Vector Store 구축 - FAISS 사용",
   "id": "ed0b8adb1ee4754e"
  },
  {
   "metadata": {
    "ExecuteTime": {
     "end_time": "2024-12-19T03:41:21.267212Z",
     "start_time": "2024-12-19T03:41:21.237866Z"
    }
   },
   "cell_type": "code",
   "source": [
    "from langchain.vectorstores import FAISS\n",
    "\n",
    "vectors = FAISS.from_documents(all_documents, embeddings) #documents : Document\n",
    "vectors"
   ],
   "id": "a5d8266ed7b37972",
   "outputs": [
    {
     "ename": "NameError",
     "evalue": "name 'all_documents' is not defined",
     "output_type": "error",
     "traceback": [
      "\u001B[1;31m---------------------------------------------------------------------------\u001B[0m",
      "\u001B[1;31mNameError\u001B[0m                                 Traceback (most recent call last)",
      "Cell \u001B[1;32mIn[12], line 3\u001B[0m\n\u001B[0;32m      1\u001B[0m \u001B[38;5;28;01mfrom\u001B[39;00m \u001B[38;5;21;01mlangchain\u001B[39;00m\u001B[38;5;21;01m.\u001B[39;00m\u001B[38;5;21;01mvectorstores\u001B[39;00m \u001B[38;5;28;01mimport\u001B[39;00m FAISS\n\u001B[1;32m----> 3\u001B[0m vectors \u001B[38;5;241m=\u001B[39m FAISS\u001B[38;5;241m.\u001B[39mfrom_documents(\u001B[43mall_documents\u001B[49m, embeddings) \u001B[38;5;66;03m#documents : Document\u001B[39;00m\n\u001B[0;32m      4\u001B[0m vectors\n",
      "\u001B[1;31mNameError\u001B[0m: name 'all_documents' is not defined"
     ]
    }
   ],
   "execution_count": 12
  },
  {
   "metadata": {
    "ExecuteTime": {
     "end_time": "2024-12-19T03:34:22.803409Z",
     "start_time": "2024-12-19T03:34:22.330665Z"
    }
   },
   "cell_type": "code",
   "source": [
    "results = vectors.similarity_search(\"부산\", k=3)\n",
    "print(len(results))\n",
    "# for i, doc in enumerate(results):\n",
    "#     print(i, doc.page_content)\n",
    "\n",
    "print(results[2])"
   ],
   "id": "1a9a68ebf20e29ca",
   "outputs": [
    {
     "name": "stdout",
     "output_type": "stream",
     "text": [
      "3\n",
      "page_content='목   차Ⅰ. 기본 방향· · · · · · · · · · · · · · · · · · · · · · · · · · · · · · · · · · · · · · · · · · · · · · · · · · · · · · · · · · · · · · · · · · · · · · · · · · · 1Ⅱ. 2024년 주요 제도 개선사항· · · · · · · · · · · · · · · · · · · · · · · · · · · · · · · · · · · · · · · · · · · 2Ⅲ. 2024년 경마 시행개요· · · · · · · · · · · · · · · · · · · · · · · · · · · · · · · · · · · · · · · · · · · · · · · · · · · · 9Ⅳ. 경마 시행체계· · · · · · · · · · · · · · · · · · · · · · · · · · · · · · · · · · · · · · · · · · · · · · · · · · · · · · · · · · · · · · · · · 11  1. 경주 편성· · · · · · · · · · · · · · · · · · · · · · · · · · · · · · · · · · · · · · · · · · · · · · · · · · · · · · · · · · · · · · · · · · · · · · · · · · · · · · · · · · · · · · · ·11  2. 경주거리 운영· · · · · · · · · · · · · · · · · · · · · · · · · · · · · · · · · · · · · · · · · · · · · · · · · · · · · · · · · · · · · · · · · · · · · · · · · · · · · · 12  3. 부담중량 종류 및 운영· · · · · · · · · · · · · · · · · · · · · · · · · · · · · · · · · · · · · · · · · · · · · · · · · · · · · · · · · · · · · · · 12  4. 기수 부담중량 감량 · · · · · · · · · · · · · · · · · · · · · · · · · · · · · · · · · · · · · · · · · · · · · · · · · · · · · · · · · · · · · · · · · · 17  5. 레이팅 시스템 세부 운영기준· · · · · · · · · · · · · · · · · · · · · · · · · · · · · · · · · · · · · · · · · · · · · · · · · · · 17 Ⅴ. 2024년 경마시행 세부계획· · · · · · · · · · · · · · · · · · · · · · · · · · · · · · · · · · · · · · · · · · 21  1. 경마장별 시행규모· · · · · · · · · · · · · · · · · · · · · · · · · · · · · · · · · · · · · · · · · · · · · · · · · · · · · · · · · · · · · · · · · · · · · · 21  2. 신마 입사 및 운영기준· · · · · · · · · · · · · · · · · · · · · · · · · · · · · · · · · · · · · · · · · · · · · · · · · · · · · · · · · · · · · · · 23  3. 대상·특별경주 시행 개요· · · · · · · · · · · · · · · · · · · · · · · · · · · · · · · · · · · · · · · · · · · · · · · · · · · · · · · · · 24  4. 조건별 최우수마 선발 시리즈경주 운영 및 국제경주 시행· · · · · · · · 28  5. 대상·특별경주 세부 일정· · · · · · · · · · · · · · · · · · · · · · · · · · · · · · · · · · · · · · · · · · · · · · · · · · · · · · · · · 34Ⅵ. 경주편성· · · · · · · · · · · · · · · · · · · · · · · · · · · · · · · · · · · · · · · · · · · · · · · · · · · · · · · · · · · · · · · · · · · · · · · · · · · 39  1. 경주편성 체계도· · · · · · · · · · · · · · · · · · · · · · · · · · · · · · · · · · · · · · · · · · · · · · · · · · · · · · · · · · · · · · · · · · · · · · · · · · 39  2. 출전등록· · · · · · · · · · · · · · · · · · · · · · · · · · · · · · · · · · · · · · · · · · · · · · · · · · · · · · · · · · · · · · · · · · · · · · · · · · · · · · · · · · · · · · · · 40  3. 출전신청· · · · · · · · · · · · · · · · · · · · · · · · · · · · · · · · · · · · · · · · · · · · · · · · · · · · · · · · · · · · · · · · · · · · · · · · · · · · · · · · · · · · · · · · 43  4. 출전마 확정· · · · · · · · · · · · · · · · · · · · · · · · · · · · · · · · · · · · · · · · · · · · · · · · · · · · · · · · · · · · · · · · · · · · · · · · · · · · · · · · · · 45  5. 편성두수 부족 시 조치· · · · · · · · · · · · · · · · · · · · · · · · · · · · · · · · · · · · · · · · · · · · · · · · · · · · · · · · · · · · · · · 49  6. 기승기수의 선정· · · · · · · · · · · · · · · · · · · · · · · · · · · · · · · · · · · · · · · · · · · · · · · · · · · · · · · · · · · · · · · · · · · · · · · · · · 52' metadata={'source': 'C:/Workspaces/project_ma/pdfs\\\\race_plan2024.pdf', 'page': 2}\n"
     ]
    }
   ],
   "execution_count": 51
  },
  {
   "metadata": {},
   "cell_type": "markdown",
   "source": "## Retriever 객체 생성",
   "id": "d7bec4d8b902fa71"
  },
  {
   "metadata": {
    "ExecuteTime": {
     "end_time": "2024-12-19T03:24:25.630381Z",
     "start_time": "2024-12-19T03:24:25.614919Z"
    }
   },
   "cell_type": "code",
   "source": [
    "retriever = vectors.as_retriever()\n",
    "retriever"
   ],
   "id": "8c576e14e151d823",
   "outputs": [
    {
     "data": {
      "text/plain": [
       "VectorStoreRetriever(tags=['FAISS', 'OpenAIEmbeddings'], vectorstore=<langchain_community.vectorstores.faiss.FAISS object at 0x000001F770EF0C80>, search_kwargs={})"
      ]
     },
     "execution_count": 36,
     "metadata": {},
     "output_type": "execute_result"
    }
   ],
   "execution_count": 36
  },
  {
   "metadata": {
    "ExecuteTime": {
     "end_time": "2024-12-19T03:24:45.924739Z",
     "start_time": "2024-12-19T03:24:43.340558Z"
    }
   },
   "cell_type": "code",
   "source": [
    "# 벡터스토어 검색 및 LLM 질의\n",
    "\n",
    "from langchain_openai import ChatOpenAI\n",
    "from langchain.chains import RetrievalQA\n",
    "model = ChatOpenAI(\n",
    "    model=\"gpt-4o\",\n",
    "    temperature=0.3,\n",
    ")\n",
    "\n",
    "#질의 객체\n",
    "rtvr_qa=RetrievalQA.from_chain_type(\n",
    "    llm=model,\n",
    "    retriever=retriever,\n",
    "    chain_type = 'stuff' #검색된 내용을 하나의 텍스트로 생성해서 LLM에 전달\n",
    ")\n",
    "\n",
    "#llm 질의\n",
    "response1 = rtvr_qa.invoke('오토벳')\n",
    "print(response1)"
   ],
   "id": "c342874c316efeb",
   "outputs": [
    {
     "name": "stdout",
     "output_type": "stream",
     "text": [
      "{'query': '오토벳', 'result': '죄송하지만, \"오토벳\"에 대한 구체적인 정보를 제공할 수 없습니다. 추가적인 정보를 제공해 주시면 도움이 될 수 있습니다.'}\n"
     ]
    }
   ],
   "execution_count": 37
  },
  {
   "metadata": {},
   "cell_type": "code",
   "outputs": [],
   "execution_count": null,
   "source": [
    "#response1 = rtvr_qa.invoke('오토벳에 대해 알려줘')\n",
    "#print(response1)\n",
    "#TODO pdf 업로드 시, 내용이 누락될 가능성?\n",
    "#race_guide.pdf에 오토벳에 대한 내용이 있는데 뱉어주는 게 없다.\n",
    "#민하님께서 guide.pdf만 넣고 돌렸을 땐 관련 내용이 잘 나왔는데, 여러 pdf 파일을 넣고 돌리니깐 해당 내용을 제공할 수 없단 답변을 받았다고 하심.\n",
    "#이에 다 같이 돌려봤으나 똑같은 증상을 겪었다."
   ],
   "id": "2ba39f0253b1570"
  },
  {
   "metadata": {},
   "cell_type": "code",
   "outputs": [],
   "execution_count": null,
   "source": "",
   "id": "13956d1f70ea6dcf"
  }
 ],
 "metadata": {
  "kernelspec": {
   "display_name": "Python 3",
   "language": "python",
   "name": "python3"
  },
  "language_info": {
   "codemirror_mode": {
    "name": "ipython",
    "version": 2
   },
   "file_extension": ".py",
   "mimetype": "text/x-python",
   "name": "python",
   "nbconvert_exporter": "python",
   "pygments_lexer": "ipython2",
   "version": "2.7.6"
  }
 },
 "nbformat": 4,
 "nbformat_minor": 5
}
